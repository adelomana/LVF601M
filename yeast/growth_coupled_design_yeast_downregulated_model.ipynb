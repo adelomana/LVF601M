{
 "cells": [
  {
   "cell_type": "code",
   "execution_count": 1,
   "id": "8a89e221",
   "metadata": {
    "colab": {
     "base_uri": "https://localhost:8080/"
    },
    "id": "8a89e221",
    "outputId": "f0047ddc-d3e9-4a91-c837-2ca0594b9c8a"
   },
   "outputs": [],
   "source": [
    "import numpy, datetime, os, pickle, itertools, importlib, dotenv, pandas, json"
   ]
  },
  {
   "cell_type": "code",
   "execution_count": 2,
   "id": "e5febaa1",
   "metadata": {
    "id": "e5febaa1"
   },
   "outputs": [],
   "source": [
    "import multiprocessing, multiprocessing.pool\n",
    "from multiprocessing import Process, Queue"
   ]
  },
  {
   "cell_type": "code",
   "execution_count": 3,
   "id": "f9a89afd",
   "metadata": {
    "id": "f9a89afd"
   },
   "outputs": [],
   "source": [
    "import matplotlib, matplotlib.pyplot\n",
    "matplotlib.rcParams.update({'font.size':20, 'font.family':'FreeSans', 'xtick.labelsize':30, 'ytick.labelsize':30, 'axes.labelsize':40, 'figure.figsize':(12, 8)})"
   ]
  },
  {
   "cell_type": "code",
   "execution_count": 4,
   "id": "77b2a3da",
   "metadata": {
    "id": "77b2a3da"
   },
   "outputs": [],
   "source": [
    "def growth_coupled_analysis(task):\n",
    "    \n",
    "    \"\"\"\n",
    "    This function performs the growth-coupled production.\n",
    "    It takes as input a list as [first_gene_pair_index, second_gene_pair_index, reaction_of_interest, biomass_reaction_label, model]\n",
    "    It gives as output a list as [first_gene_pair_index, second_gene_pair_index, growth, min_production, max_production]\n",
    "    \"\"\"\n",
    "    \n",
    "    i = task[0]\n",
    "    j = task[1]\n",
    "    reaction_of_interest = task[2]\n",
    "    biomass_reaction_label = task[3]\n",
    "    model = task[4]\n",
    "    \n",
    "    with model as model:\n",
    "                \n",
    "        # KO\n",
    "        model.genes[i].knock_out()\n",
    "        model.genes[j].knock_out()\n",
    "        solution = model.optimize()\n",
    "        if solution.status == 'optimal':\n",
    "            ko_growth = solution.objective_value\n",
    "\n",
    "            # growth-coupled production\n",
    "            model.objective = reaction_of_interest\n",
    "            model.reactions.get_by_id(biomass_reaction_label).lower_bound = ko_growth\n",
    "            max_production = model.optimize(objective_sense='maximize').objective_value\n",
    "            min_production = model.optimize(objective_sense='minimize').objective_value\n",
    "            \n",
    "            result = [i, j, ko_growth, min_production, max_production]\n",
    "        else:\n",
    "            result = [i, j, 0, 0, 0]\n",
    "\n",
    "    return result"
   ]
  },
  {
   "cell_type": "code",
   "execution_count": 5,
   "id": "f42fc7ac",
   "metadata": {
    "id": "f42fc7ac"
   },
   "outputs": [],
   "source": [
    "def printt(message):\n",
    "\n",
    "    print(datetime.datetime.now().strftime(\"%Y-%m-%d %H:%M:%S \\t {}\".format(message)))   #here date & time, to see the runtime? \n",
    "\n",
    "    return None"
   ]
  },
  {
   "cell_type": "markdown",
   "id": "74ebf9e7",
   "metadata": {
    "id": "74ebf9e7"
   },
   "source": [
    "# 1. load the model"
   ]
  },
  {
   "cell_type": "code",
   "execution_count": 6,
   "id": "7915fb88",
   "metadata": {
    "id": "7915fb88"
   },
   "outputs": [],
   "source": [
    "io_path = '/home/adrian/hub/LVF601M/yeast/yeast-GEM/code/io.py'"
   ]
  },
  {
   "cell_type": "code",
   "execution_count": 7,
   "id": "9bb26803",
   "metadata": {},
   "outputs": [],
   "source": [
    "os.chdir('yeast-GEM')\n",
    "#! touch .env\n",
    "\n",
    "# find .env + define paths:\n",
    "dotenv_path = dotenv.find_dotenv()\n",
    "REPO_PATH = os.path.dirname(dotenv_path)\n",
    "MODEL_PATH = f\"{REPO_PATH}/model/yeast-GEM.xml\""
   ]
  },
  {
   "cell_type": "code",
   "execution_count": 8,
   "id": "58207bed",
   "metadata": {
    "id": "58207bed"
   },
   "outputs": [
    {
     "name": "stdout",
     "output_type": "stream",
     "text": [
      "Restricted license - for non-production use only - expires 2023-10-25\n"
     ]
    }
   ],
   "source": [
    "spec = importlib.util.spec_from_file_location(\"i_dont_know_what_is_this\", io_path)\n",
    "foo = importlib.util.module_from_spec(spec)\n",
    "spec.loader.exec_module(foo)\n",
    "model = foo.read_yeast_model()"
   ]
  },
  {
   "cell_type": "code",
   "execution_count": 9,
   "id": "f3691b01",
   "metadata": {
    "colab": {
     "base_uri": "https://localhost:8080/"
    },
    "id": "f3691b01",
    "outputId": "e67186e6-e978-4b31-bec9-888ed33e2558"
   },
   "outputs": [
    {
     "data": {
      "text/plain": [
       "<optlang.cplex_interface.Model at 0x7f869339b640>"
      ]
     },
     "execution_count": 9,
     "metadata": {},
     "output_type": "execute_result"
    }
   ],
   "source": [
    "working_solver = \"cplex\" # much faster version of glpk\n",
    "model.solver = working_solver\n",
    "model.solver"
   ]
  },
  {
   "cell_type": "markdown",
   "id": "e69dc5f7",
   "metadata": {
    "id": "e69dc5f7"
   },
   "source": [
    "# 2. explore the model"
   ]
  },
  {
   "cell_type": "code",
   "execution_count": 10,
   "id": "604aafd2",
   "metadata": {
    "id": "604aafd2"
   },
   "outputs": [
    {
     "data": {
      "text/html": [
       "<h3>Objective</h3><p>1.0 r_2111 = 0.08374770604149201</p><h4>Uptake</h4><table border=\"1\" class=\"dataframe\">\n",
       "  <thead>\n",
       "    <tr style=\"text-align: right;\">\n",
       "      <th>Metabolite</th>\n",
       "      <th>Reaction</th>\n",
       "      <th>Flux</th>\n",
       "      <th>C-Number</th>\n",
       "      <th>C-Flux</th>\n",
       "    </tr>\n",
       "  </thead>\n",
       "  <tbody>\n",
       "    <tr>\n",
       "      <td>s_0420[e]</td>\n",
       "      <td>r_1654</td>\n",
       "      <td>0.5988</td>\n",
       "      <td>0</td>\n",
       "      <td>0.00%</td>\n",
       "    </tr>\n",
       "    <tr>\n",
       "      <td>s_0565[e]</td>\n",
       "      <td>r_1714</td>\n",
       "      <td>1</td>\n",
       "      <td>6</td>\n",
       "      <td>100.00%</td>\n",
       "    </tr>\n",
       "    <tr>\n",
       "      <td>s_0796[e]</td>\n",
       "      <td>r_1832</td>\n",
       "      <td>0.04236</td>\n",
       "      <td>0</td>\n",
       "      <td>0.00%</td>\n",
       "    </tr>\n",
       "    <tr>\n",
       "      <td>s_0925[e]</td>\n",
       "      <td>r_1861</td>\n",
       "      <td>2.63E-06</td>\n",
       "      <td>0</td>\n",
       "      <td>0.00%</td>\n",
       "    </tr>\n",
       "    <tr>\n",
       "      <td>s_1277[e]</td>\n",
       "      <td>r_1992</td>\n",
       "      <td>2.25</td>\n",
       "      <td>0</td>\n",
       "      <td>0.00%</td>\n",
       "    </tr>\n",
       "    <tr>\n",
       "      <td>s_1324[e]</td>\n",
       "      <td>r_2005</td>\n",
       "      <td>0.545</td>\n",
       "      <td>0</td>\n",
       "      <td>0.00%</td>\n",
       "    </tr>\n",
       "    <tr>\n",
       "      <td>s_1374[e]</td>\n",
       "      <td>r_2020</td>\n",
       "      <td>0.000304</td>\n",
       "      <td>0</td>\n",
       "      <td>0.00%</td>\n",
       "    </tr>\n",
       "    <tr>\n",
       "      <td>s_1438[e]</td>\n",
       "      <td>r_2049</td>\n",
       "      <td>0.0003325</td>\n",
       "      <td>0</td>\n",
       "      <td>0.00%</td>\n",
       "    </tr>\n",
       "    <tr>\n",
       "      <td>s_1468[e]</td>\n",
       "      <td>r_2060</td>\n",
       "      <td>0.007203</td>\n",
       "      <td>0</td>\n",
       "      <td>0.00%</td>\n",
       "    </tr>\n",
       "    <tr>\n",
       "      <td>s_4200[e]</td>\n",
       "      <td>r_4593</td>\n",
       "      <td>0.000108</td>\n",
       "      <td>0</td>\n",
       "      <td>0.00%</td>\n",
       "    </tr>\n",
       "    <tr>\n",
       "      <td>s_4201[e]</td>\n",
       "      <td>r_4594</td>\n",
       "      <td>5.519E-05</td>\n",
       "      <td>0</td>\n",
       "      <td>0.00%</td>\n",
       "    </tr>\n",
       "    <tr>\n",
       "      <td>s_4202[e]</td>\n",
       "      <td>r_4595</td>\n",
       "      <td>0.0002286</td>\n",
       "      <td>0</td>\n",
       "      <td>0.00%</td>\n",
       "    </tr>\n",
       "    <tr>\n",
       "      <td>s_4203[e]</td>\n",
       "      <td>r_4596</td>\n",
       "      <td>6.264E-05</td>\n",
       "      <td>0</td>\n",
       "      <td>0.00%</td>\n",
       "    </tr>\n",
       "    <tr>\n",
       "      <td>s_4204[e]</td>\n",
       "      <td>r_4597</td>\n",
       "      <td>0.0001041</td>\n",
       "      <td>0</td>\n",
       "      <td>0.00%</td>\n",
       "    </tr>\n",
       "    <tr>\n",
       "      <td>s_4199[e]</td>\n",
       "      <td>r_4600</td>\n",
       "      <td>1.817E-05</td>\n",
       "      <td>0</td>\n",
       "      <td>0.00%</td>\n",
       "    </tr>\n",
       "  </tbody>\n",
       "</table><h4>Secretion</h4><table border=\"1\" class=\"dataframe\">\n",
       "  <thead>\n",
       "    <tr style=\"text-align: right;\">\n",
       "      <th>Metabolite</th>\n",
       "      <th>Reaction</th>\n",
       "      <th>Flux</th>\n",
       "      <th>C-Number</th>\n",
       "      <th>C-Flux</th>\n",
       "    </tr>\n",
       "  </thead>\n",
       "  <tbody>\n",
       "    <tr>\n",
       "      <td>s_0458[e]</td>\n",
       "      <td>r_1672</td>\n",
       "      <td>-2.39</td>\n",
       "      <td>1</td>\n",
       "      <td>100.00%</td>\n",
       "    </tr>\n",
       "    <tr>\n",
       "      <td>s_0776[e]</td>\n",
       "      <td>r_1814</td>\n",
       "      <td>-5.41E-06</td>\n",
       "      <td>2</td>\n",
       "      <td>0.00%</td>\n",
       "    </tr>\n",
       "    <tr>\n",
       "      <td>s_0805[e]</td>\n",
       "      <td>r_2100</td>\n",
       "      <td>-4.302</td>\n",
       "      <td>0</td>\n",
       "      <td>0.00%</td>\n",
       "    </tr>\n",
       "    <tr>\n",
       "      <td>s_0450[c]</td>\n",
       "      <td>r_2111</td>\n",
       "      <td>-0.08375</td>\n",
       "      <td>0</td>\n",
       "      <td>0.00%</td>\n",
       "    </tr>\n",
       "    <tr>\n",
       "      <td>s_4157[e]</td>\n",
       "      <td>r_4527</td>\n",
       "      <td>-0.2515</td>\n",
       "      <td>0</td>\n",
       "      <td>0.00%</td>\n",
       "    </tr>\n",
       "  </tbody>\n",
       "</table>"
      ],
      "text/plain": [
       "<cobra.summary.model_summary.ModelSummary at 0x7f868e99f7f0>"
      ]
     },
     "execution_count": 10,
     "metadata": {},
     "output_type": "execute_result"
    }
   ],
   "source": [
    "model.summary()"
   ]
  },
  {
   "cell_type": "code",
   "execution_count": 11,
   "id": "47e61440",
   "metadata": {
    "colab": {
     "base_uri": "https://localhost:8080/"
    },
    "id": "47e61440",
    "outputId": "56e99c98-def4-4e5e-c738-c6d0864c15f9"
   },
   "outputs": [
    {
     "name": "stdout",
     "output_type": "stream",
     "text": [
      "0.08374770604149129\n"
     ]
    }
   ],
   "source": [
    "wt_solution = model.optimize()\n",
    "print(wt_solution.objective_value)"
   ]
  },
  {
   "cell_type": "code",
   "execution_count": 12,
   "id": "028cc140",
   "metadata": {
    "colab": {
     "base_uri": "https://localhost:8080/"
    },
    "id": "028cc140",
    "outputId": "203292d8-a82e-42df-a7d2-4851fe6ccd97"
   },
   "outputs": [
    {
     "name": "stdout",
     "output_type": "stream",
     "text": [
      "1150\n"
     ]
    }
   ],
   "source": [
    "number_of_genes = len(model.genes)\n",
    "print(number_of_genes)"
   ]
  },
  {
   "cell_type": "markdown",
   "id": "nd-TgUV8JVpA",
   "metadata": {
    "id": "nd-TgUV8JVpA"
   },
   "source": [
    "# 3. adjusting the model"
   ]
  },
  {
   "cell_type": "markdown",
   "id": "t-lcbkgfYgi6",
   "metadata": {
    "id": "t-lcbkgfYgi6"
   },
   "source": [
    "## 3.1 Helper functions"
   ]
  },
  {
   "cell_type": "code",
   "execution_count": 13,
   "id": "YCRRPk05Jb_7",
   "metadata": {
    "id": "YCRRPk05Jb_7"
   },
   "outputs": [],
   "source": [
    "#find probes with expression log2 fold change less than -1  #to find what probe IDs have log fold less than -1, which tells us that the expression halved from control to expression. \n",
    "import math\n",
    "def find_probe_list(probe,control_list,condition_list):\n",
    "  dn_probe = []\n",
    "  for i in range(len(control_list)-1):\n",
    "    FC = condition_list[i]/control_list[i]\n",
    "    log_FC = math.log(FC,2)\n",
    "    if(log_FC <= -1):\n",
    "      dn_probe.append(probe[i])\n",
    "  return dn_probe"
   ]
  },
  {
   "cell_type": "code",
   "execution_count": 14,
   "id": "UIM4LDG4VdDs",
   "metadata": {
    "id": "UIM4LDG4VdDs"
   },
   "outputs": [],
   "source": [
    "#find gene ids of probes with downregulated expression   \n",
    "def find_gene_ids(dn_probe,probe_map,gene_map):\n",
    "  gene_id_dn = []\n",
    "  for i in range(len(dn_probe)-1):\n",
    "    for j in range(len(probe_map)-1):\n",
    "      if(dn_probe[i] == probe_map[j]):\n",
    "        gene_id_dn.append(gene_map[j])\n",
    "  return gene_id_dn"
   ]
  },
  {
   "cell_type": "code",
   "execution_count": 15,
   "id": "daHqqoRdWeYh",
   "metadata": {
    "id": "daHqqoRdWeYh"
   },
   "outputs": [],
   "source": [
    "#make a copy of original model which is adjusted for downregulated genes\n",
    "def adjust_model(model,gene_id_dn):\n",
    "  reaction_ko = []\n",
    "  model_adjust = model.copy()\n",
    "  for gene in gene_id_dn:\n",
    "    new_gene = fix_gene_id(gene)\n",
    "    if new_gene in model.genes:\n",
    "      model_adjust.genes.get_by_id(new_gene).knock_out()\n",
    "  return model_adjust"
   ]
  },
  {
   "cell_type": "code",
   "execution_count": 16,
   "id": "YHF77dLNgME6",
   "metadata": {
    "id": "YHF77dLNgME6"
   },
   "outputs": [],
   "source": [
    "#function that has as an input a gene id from the dataset and returns an id that the model can read\n",
    "def fix_gene_id(gene):\n",
    "  gene_new_char = []\n",
    "  for char in gene:\n",
    "    if char != \".\":\n",
    "      gene_new_char.append(char)\n",
    "    else:\n",
    "      break\n",
    "  str = \"\"\n",
    "  for ele in gene_new_char:\n",
    "    str += ele\n",
    "  return str"
   ]
  },
  {
   "cell_type": "code",
   "execution_count": 17,
   "id": "crLFTgv_qs_c",
   "metadata": {
    "id": "crLFTgv_qs_c"
   },
   "outputs": [],
   "source": [
    "def count_ko_reactions(model_adj):\n",
    "  rxn_list = []\n",
    "  for rxn in model_adj.reactions:\n",
    "    if rxn.bounds == (0,0):\n",
    "      rxn_list.append(rxn)\n",
    "  return rxn_list"
   ]
  },
  {
   "cell_type": "markdown",
   "id": "Atj1JuWQ6v6Z",
   "metadata": {
    "id": "Atj1JuWQ6v6Z"
   },
   "source": [
    "## 3.2 Loading data"
   ]
  },
  {
   "cell_type": "code",
   "execution_count": 18,
   "id": "-qj_o41E60BA",
   "metadata": {
    "colab": {
     "base_uri": "https://localhost:8080/"
    },
    "id": "-qj_o41E60BA",
    "outputId": "bdc38ff2-5768-4952-ff81-71acac5f0544"
   },
   "outputs": [
    {
     "name": "stdout",
     "output_type": "stream",
     "text": [
      "--2022-04-22 11:00:20--  https://ftp.ncbi.nlm.nih.gov/geo/series/GSE20nnn/GSE20108/matrix/GSE20108_series_matrix.txt.gz\n",
      "Resolving ftp.ncbi.nlm.nih.gov (ftp.ncbi.nlm.nih.gov)... 165.112.9.228, 165.112.9.229, 2607:f220:41f:250::229, ...\n",
      "Connecting to ftp.ncbi.nlm.nih.gov (ftp.ncbi.nlm.nih.gov)|165.112.9.228|:443... connected.\n",
      "HTTP request sent, awaiting response... 200 OK\n",
      "Length: 798370 (780K) [application/x-gzip]\n",
      "Saving to: ‘GSE20108_series_matrix.txt.gz.2’\n",
      "\n",
      "GSE20108_series_mat 100%[===================>] 779.66K  1.12MB/s    in 0.7s    \n",
      "\n",
      "2022-04-22 11:00:22 (1.12 MB/s) - ‘GSE20108_series_matrix.txt.gz.2’ saved [798370/798370]\n",
      "\n"
     ]
    },
    {
     "data": {
      "text/html": [
       "<div>\n",
       "<style scoped>\n",
       "    .dataframe tbody tr th:only-of-type {\n",
       "        vertical-align: middle;\n",
       "    }\n",
       "\n",
       "    .dataframe tbody tr th {\n",
       "        vertical-align: top;\n",
       "    }\n",
       "\n",
       "    .dataframe thead th {\n",
       "        text-align: right;\n",
       "    }\n",
       "</style>\n",
       "<table border=\"1\" class=\"dataframe\">\n",
       "  <thead>\n",
       "    <tr style=\"text-align: right;\">\n",
       "      <th></th>\n",
       "      <th>ID_REF</th>\n",
       "      <th>GSM502520</th>\n",
       "      <th>GSM502521</th>\n",
       "      <th>GSM502522</th>\n",
       "      <th>GSM502523</th>\n",
       "      <th>GSM502524</th>\n",
       "      <th>GSM502525</th>\n",
       "      <th>GSM502526</th>\n",
       "      <th>GSM502527</th>\n",
       "      <th>GSM502528</th>\n",
       "      <th>GSM502529</th>\n",
       "      <th>GSM502530</th>\n",
       "      <th>GSM502531</th>\n",
       "      <th>GSM502532</th>\n",
       "      <th>GSM502533</th>\n",
       "      <th>GSM502534</th>\n",
       "      <th>GSM502535</th>\n",
       "      <th>GSM502536</th>\n",
       "      <th>GSM502537</th>\n",
       "    </tr>\n",
       "  </thead>\n",
       "  <tbody>\n",
       "    <tr>\n",
       "      <th>0</th>\n",
       "      <td>1769308_at</td>\n",
       "      <td>66.02190</td>\n",
       "      <td>64.50880</td>\n",
       "      <td>64.07770</td>\n",
       "      <td>50.811200</td>\n",
       "      <td>33.27310</td>\n",
       "      <td>27.10110</td>\n",
       "      <td>82.14330</td>\n",
       "      <td>155.595000</td>\n",
       "      <td>74.03960</td>\n",
       "      <td>89.45960</td>\n",
       "      <td>100.33300</td>\n",
       "      <td>112.94300</td>\n",
       "      <td>67.26400</td>\n",
       "      <td>88.65670</td>\n",
       "      <td>84.84220</td>\n",
       "      <td>80.00210</td>\n",
       "      <td>39.41340</td>\n",
       "      <td>49.64110</td>\n",
       "    </tr>\n",
       "    <tr>\n",
       "      <th>1</th>\n",
       "      <td>1769309_at</td>\n",
       "      <td>7.47442</td>\n",
       "      <td>4.57040</td>\n",
       "      <td>1.90656</td>\n",
       "      <td>0.701782</td>\n",
       "      <td>4.08954</td>\n",
       "      <td>1.27988</td>\n",
       "      <td>1.97934</td>\n",
       "      <td>2.832220</td>\n",
       "      <td>5.85934</td>\n",
       "      <td>5.06648</td>\n",
       "      <td>2.61963</td>\n",
       "      <td>2.28516</td>\n",
       "      <td>4.07976</td>\n",
       "      <td>2.34420</td>\n",
       "      <td>3.28361</td>\n",
       "      <td>6.44708</td>\n",
       "      <td>1.86492</td>\n",
       "      <td>0.74411</td>\n",
       "    </tr>\n",
       "    <tr>\n",
       "      <th>2</th>\n",
       "      <td>1769310_at</td>\n",
       "      <td>3.95121</td>\n",
       "      <td>3.85858</td>\n",
       "      <td>3.26991</td>\n",
       "      <td>1.961260</td>\n",
       "      <td>4.74444</td>\n",
       "      <td>3.79033</td>\n",
       "      <td>1.34910</td>\n",
       "      <td>0.915949</td>\n",
       "      <td>3.20209</td>\n",
       "      <td>4.69500</td>\n",
       "      <td>1.21438</td>\n",
       "      <td>3.21346</td>\n",
       "      <td>4.33432</td>\n",
       "      <td>1.22967</td>\n",
       "      <td>3.63288</td>\n",
       "      <td>1.78898</td>\n",
       "      <td>3.25453</td>\n",
       "      <td>4.20871</td>\n",
       "    </tr>\n",
       "    <tr>\n",
       "      <th>3</th>\n",
       "      <td>1769311_at</td>\n",
       "      <td>571.15100</td>\n",
       "      <td>609.04800</td>\n",
       "      <td>552.19200</td>\n",
       "      <td>544.056000</td>\n",
       "      <td>470.93600</td>\n",
       "      <td>485.51900</td>\n",
       "      <td>617.76800</td>\n",
       "      <td>881.655000</td>\n",
       "      <td>806.09300</td>\n",
       "      <td>700.81000</td>\n",
       "      <td>793.89800</td>\n",
       "      <td>802.20000</td>\n",
       "      <td>616.10600</td>\n",
       "      <td>639.42600</td>\n",
       "      <td>615.87300</td>\n",
       "      <td>577.36700</td>\n",
       "      <td>541.20000</td>\n",
       "      <td>555.36600</td>\n",
       "    </tr>\n",
       "    <tr>\n",
       "      <th>4</th>\n",
       "      <td>1769312_at</td>\n",
       "      <td>169.12700</td>\n",
       "      <td>176.10700</td>\n",
       "      <td>153.34400</td>\n",
       "      <td>152.357000</td>\n",
       "      <td>149.77000</td>\n",
       "      <td>121.77800</td>\n",
       "      <td>141.53500</td>\n",
       "      <td>159.424000</td>\n",
       "      <td>154.06000</td>\n",
       "      <td>153.67400</td>\n",
       "      <td>149.79800</td>\n",
       "      <td>147.94900</td>\n",
       "      <td>186.58300</td>\n",
       "      <td>189.34900</td>\n",
       "      <td>187.62200</td>\n",
       "      <td>137.46500</td>\n",
       "      <td>167.47200</td>\n",
       "      <td>151.40500</td>\n",
       "    </tr>\n",
       "  </tbody>\n",
       "</table>\n",
       "</div>"
      ],
      "text/plain": [
       "       ID_REF  GSM502520  GSM502521  GSM502522   GSM502523  GSM502524  \\\n",
       "0  1769308_at   66.02190   64.50880   64.07770   50.811200   33.27310   \n",
       "1  1769309_at    7.47442    4.57040    1.90656    0.701782    4.08954   \n",
       "2  1769310_at    3.95121    3.85858    3.26991    1.961260    4.74444   \n",
       "3  1769311_at  571.15100  609.04800  552.19200  544.056000  470.93600   \n",
       "4  1769312_at  169.12700  176.10700  153.34400  152.357000  149.77000   \n",
       "\n",
       "   GSM502525  GSM502526   GSM502527  GSM502528  GSM502529  GSM502530  \\\n",
       "0   27.10110   82.14330  155.595000   74.03960   89.45960  100.33300   \n",
       "1    1.27988    1.97934    2.832220    5.85934    5.06648    2.61963   \n",
       "2    3.79033    1.34910    0.915949    3.20209    4.69500    1.21438   \n",
       "3  485.51900  617.76800  881.655000  806.09300  700.81000  793.89800   \n",
       "4  121.77800  141.53500  159.424000  154.06000  153.67400  149.79800   \n",
       "\n",
       "   GSM502531  GSM502532  GSM502533  GSM502534  GSM502535  GSM502536  GSM502537  \n",
       "0  112.94300   67.26400   88.65670   84.84220   80.00210   39.41340   49.64110  \n",
       "1    2.28516    4.07976    2.34420    3.28361    6.44708    1.86492    0.74411  \n",
       "2    3.21346    4.33432    1.22967    3.63288    1.78898    3.25453    4.20871  \n",
       "3  802.20000  616.10600  639.42600  615.87300  577.36700  541.20000  555.36600  \n",
       "4  147.94900  186.58300  189.34900  187.62200  137.46500  167.47200  151.40500  "
      ]
     },
     "execution_count": 18,
     "metadata": {},
     "output_type": "execute_result"
    }
   ],
   "source": [
    "! wget https://ftp.ncbi.nlm.nih.gov/geo/series/GSE20nnn/GSE20108/matrix/GSE20108_series_matrix.txt.gz   #the expression data for \n",
    "df = pandas.read_csv(\"GSE20108_series_matrix.txt.gz\", compression=\"gzip\", sep=\"\\t\", skiprows=59)\n",
    "df.head()"
   ]
  },
  {
   "cell_type": "code",
   "execution_count": 19,
   "id": "v7d12keNf_X2",
   "metadata": {
    "colab": {
     "base_uri": "https://localhost:8080/"
    },
    "id": "v7d12keNf_X2",
    "outputId": "a247b8f3-840a-4009-96c1-03e516020e37"
   },
   "outputs": [
    {
     "data": {
      "text/plain": [
       "10929"
      ]
     },
     "execution_count": 19,
     "metadata": {},
     "output_type": "execute_result"
    }
   ],
   "source": [
    "len(df[\"ID_REF\"])"
   ]
  },
  {
   "cell_type": "code",
   "execution_count": 20,
   "id": "aI_ENqpIBC2q",
   "metadata": {
    "id": "aI_ENqpIBC2q"
   },
   "outputs": [],
   "source": [
    "#make a list of all probe ids\n",
    "df_probe = df.loc[:,\"ID_REF\"]\n",
    "df_probe.head()\n",
    "df_probe_list = df_probe.to_numpy()"
   ]
  },
  {
   "cell_type": "code",
   "execution_count": 21,
   "id": "cJXoT7eTB4Y4",
   "metadata": {
    "id": "cJXoT7eTB4Y4"
   },
   "outputs": [],
   "source": [
    "#make a list of all control values by finding mean of the two replicates of the same condition\n",
    "#The strains are diploid --- we choose diploid \n",
    "df_control = []\n",
    "df_control_list_1 = df[\"GSM502532\"].to_numpy()\n",
    "df_control_list_2 = df[\"GSM502533\"].to_numpy()\n",
    "for i in range(len(df_control_list_1)-1):\n",
    "  control_i = (df_control_list_1[i]+df_control_list_2[i])/2\n",
    "  df_control.append(control_i)\n",
    "\n",
    "df_alc3 = []\n",
    "df_alc3_1 = df[\"GSM502534\"].to_numpy()\n",
    "df_alc3_2 = df[\"GSM502535\"].to_numpy()\n",
    "for i in range(len(df_alc3_1)-1):\n",
    "  alc3_i = (df_alc3_1[i]+df_alc3_2[i])/2\n",
    "  df_alc3.append(alc3_i)\n",
    "\n",
    "df_alc7 = []\n",
    "df_alc7_1 = df[\"GSM502536\"].to_numpy()\n",
    "df_alc7_2 = df[\"GSM502537\"].to_numpy()\n",
    "for i in range(len(df_alc7_1)-1):\n",
    "  alc7_i = (df_alc7_1[i]+df_alc7_2[i])/2\n",
    "  df_alc7.append(alc7_i)\n",
    "\n"
   ]
  },
  {
   "cell_type": "code",
   "execution_count": 22,
   "id": "-PJQnZLtNadH",
   "metadata": {
    "colab": {
     "base_uri": "https://localhost:8080/"
    },
    "id": "-PJQnZLtNadH",
    "outputId": "f25c874b-fa14-49b7-d864-bb15b5518ce8"
   },
   "outputs": [
    {
     "name": "stdout",
     "output_type": "stream",
     "text": [
      "--2022-04-22 11:00:22--  https://www.ebi.ac.uk/arrayexpress/files/A-AFFY-47/A-AFFY-47.adf.txt\n",
      "Resolving www.ebi.ac.uk (www.ebi.ac.uk)... 193.62.193.80\n",
      "Connecting to www.ebi.ac.uk (www.ebi.ac.uk)|193.62.193.80|:443... connected.\n",
      "HTTP request sent, awaiting response... 200 OK\n",
      "Length: 748713 (731K) [text/plain]\n",
      "Saving to: ‘A-AFFY-47.adf.txt.2’\n",
      "\n",
      "A-AFFY-47.adf.txt.2 100%[===================>] 731.17K  1.40MB/s    in 0.5s    \n",
      "\n",
      "2022-04-22 11:00:24 (1.40 MB/s) - ‘A-AFFY-47.adf.txt.2’ saved [748713/748713]\n",
      "\n"
     ]
    },
    {
     "data": {
      "text/html": [
       "<div>\n",
       "<style scoped>\n",
       "    .dataframe tbody tr th:only-of-type {\n",
       "        vertical-align: middle;\n",
       "    }\n",
       "\n",
       "    .dataframe tbody tr th {\n",
       "        vertical-align: top;\n",
       "    }\n",
       "\n",
       "    .dataframe thead th {\n",
       "        text-align: right;\n",
       "    }\n",
       "</style>\n",
       "<table border=\"1\" class=\"dataframe\">\n",
       "  <thead>\n",
       "    <tr style=\"text-align: right;\">\n",
       "      <th></th>\n",
       "      <th>RPTR-Sc-M57289-1_s_at</th>\n",
       "      <th>AFFX-Sc-M57289-1</th>\n",
       "      <th>Unnamed: 2</th>\n",
       "      <th>RPTR-Sc-M57289-1_s_at.1</th>\n",
       "      <th>Unnamed: 4</th>\n",
       "      <th>Unnamed: 5</th>\n",
       "      <th>Unnamed: 6</th>\n",
       "      <th>Unnamed: 7</th>\n",
       "      <th>Unnamed: 8</th>\n",
       "      <th>Unnamed: 9</th>\n",
       "      <th>Unnamed: 10</th>\n",
       "    </tr>\n",
       "  </thead>\n",
       "  <tbody>\n",
       "    <tr>\n",
       "      <th>0</th>\n",
       "      <td>1773641_x_at</td>\n",
       "      <td>YAL068C.S1</td>\n",
       "      <td>NaN</td>\n",
       "      <td>1773641_x_at</td>\n",
       "      <td>NaN</td>\n",
       "      <td>NaN</td>\n",
       "      <td>NaN</td>\n",
       "      <td>NaN</td>\n",
       "      <td>NaN</td>\n",
       "      <td>NaN</td>\n",
       "      <td>NaN</td>\n",
       "    </tr>\n",
       "    <tr>\n",
       "      <th>1</th>\n",
       "      <td>1771192_at</td>\n",
       "      <td>YAL067W-A.S1</td>\n",
       "      <td>NaN</td>\n",
       "      <td>1771192_at</td>\n",
       "      <td>NaN</td>\n",
       "      <td>NaN</td>\n",
       "      <td>NaN</td>\n",
       "      <td>NaN</td>\n",
       "      <td>NaN</td>\n",
       "      <td>NaN</td>\n",
       "      <td>NaN</td>\n",
       "    </tr>\n",
       "    <tr>\n",
       "      <th>2</th>\n",
       "      <td>1769997_at</td>\n",
       "      <td>YAL067C.S1</td>\n",
       "      <td>NaN</td>\n",
       "      <td>1769997_at</td>\n",
       "      <td>NaN</td>\n",
       "      <td>NaN</td>\n",
       "      <td>GO:0006810</td>\n",
       "      <td>EAK92569</td>\n",
       "      <td>S0000062</td>\n",
       "      <td>NaN</td>\n",
       "      <td>NaN</td>\n",
       "    </tr>\n",
       "    <tr>\n",
       "      <th>3</th>\n",
       "      <td>1775769_at</td>\n",
       "      <td>YAL065C.S1</td>\n",
       "      <td>NaN</td>\n",
       "      <td>1775769_at</td>\n",
       "      <td>NaN</td>\n",
       "      <td>NaN</td>\n",
       "      <td>NaN</td>\n",
       "      <td>BAA19915.1</td>\n",
       "      <td>S0001817</td>\n",
       "      <td>NaN</td>\n",
       "      <td>NaN</td>\n",
       "    </tr>\n",
       "    <tr>\n",
       "      <th>4</th>\n",
       "      <td>1771550_at</td>\n",
       "      <td>YAL064W-B.S1</td>\n",
       "      <td>NaN</td>\n",
       "      <td>1771550_at</td>\n",
       "      <td>NaN</td>\n",
       "      <td>NaN</td>\n",
       "      <td>NaN</td>\n",
       "      <td>NP_009336</td>\n",
       "      <td>S0002141</td>\n",
       "      <td>NaN</td>\n",
       "      <td>NaN</td>\n",
       "    </tr>\n",
       "  </tbody>\n",
       "</table>\n",
       "</div>"
      ],
      "text/plain": [
       "  RPTR-Sc-M57289-1_s_at AFFX-Sc-M57289-1 Unnamed: 2 RPTR-Sc-M57289-1_s_at.1  \\\n",
       "0          1773641_x_at       YAL068C.S1        NaN            1773641_x_at   \n",
       "1            1771192_at     YAL067W-A.S1        NaN              1771192_at   \n",
       "2            1769997_at       YAL067C.S1        NaN              1769997_at   \n",
       "3            1775769_at       YAL065C.S1        NaN              1775769_at   \n",
       "4            1771550_at     YAL064W-B.S1        NaN              1771550_at   \n",
       "\n",
       "  Unnamed: 4 Unnamed: 5  Unnamed: 6  Unnamed: 7 Unnamed: 8 Unnamed: 9  \\\n",
       "0        NaN        NaN         NaN         NaN        NaN        NaN   \n",
       "1        NaN        NaN         NaN         NaN        NaN        NaN   \n",
       "2        NaN        NaN  GO:0006810    EAK92569   S0000062        NaN   \n",
       "3        NaN        NaN         NaN  BAA19915.1   S0001817        NaN   \n",
       "4        NaN        NaN         NaN   NP_009336   S0002141        NaN   \n",
       "\n",
       "  Unnamed: 10  \n",
       "0         NaN  \n",
       "1         NaN  \n",
       "2         NaN  \n",
       "3         NaN  \n",
       "4         NaN  "
      ]
     },
     "execution_count": 22,
     "metadata": {},
     "output_type": "execute_result"
    }
   ],
   "source": [
    " #File that maps probe ids to gene ids\n",
    " ! wget https://www.ebi.ac.uk/arrayexpress/files/A-AFFY-47/A-AFFY-47.adf.txt\n",
    " df2 = pandas.read_csv(\"A-AFFY-47.adf.txt\",sep=\"\\t\", skiprows = 231)\n",
    " df2.head()"
   ]
  },
  {
   "cell_type": "code",
   "execution_count": 23,
   "id": "8sQ3RH03f1NH",
   "metadata": {
    "colab": {
     "base_uri": "https://localhost:8080/"
    },
    "id": "8sQ3RH03f1NH",
    "outputId": "9bae746f-076c-422b-bce8-91d61af3c71a"
   },
   "outputs": [
    {
     "data": {
      "text/plain": [
       "10715"
      ]
     },
     "execution_count": 23,
     "metadata": {},
     "output_type": "execute_result"
    }
   ],
   "source": [
    " len(df2[\"AFFX-Sc-M57289-1\"])"
   ]
  },
  {
   "cell_type": "code",
   "execution_count": 24,
   "id": "BplWnp-0hvC_",
   "metadata": {
    "colab": {
     "base_uri": "https://localhost:8080/"
    },
    "id": "BplWnp-0hvC_",
    "outputId": "454d25bd-b5c7-4826-acdb-b2fa478371a0"
   },
   "outputs": [
    {
     "name": "stdout",
     "output_type": "stream",
     "text": [
      "10639\n"
     ]
    }
   ],
   "source": [
    "print(df2[\"AFFX-Sc-M57289-1\"].nunique())"
   ]
  },
  {
   "cell_type": "code",
   "execution_count": 25,
   "id": "aAW0KKg4PGE_",
   "metadata": {
    "id": "aAW0KKg4PGE_"
   },
   "outputs": [],
   "source": [
    "probe_map = df2.loc[:, \"RPTR-Sc-M57289-1_s_at\"].to_numpy()\n",
    "gene_map = df2.loc[:, \"AFFX-Sc-M57289-1\"].to_numpy()"
   ]
  },
  {
   "cell_type": "markdown",
   "id": "Zio51xs2NHrk",
   "metadata": {
    "id": "Zio51xs2NHrk"
   },
   "source": [
    "## 3.3 adjust model for first and second condition"
   ]
  },
  {
   "cell_type": "code",
   "execution_count": 26,
   "id": "lL_bAzBTL7p0",
   "metadata": {
    "colab": {
     "base_uri": "https://localhost:8080/"
    },
    "id": "lL_bAzBTL7p0",
    "outputId": "2ed5e0a2-37b6-4dc5-f6d3-1fa771f3875a"
   },
   "outputs": [
    {
     "name": "stdout",
     "output_type": "stream",
     "text": [
      "19\n"
     ]
    }
   ],
   "source": [
    "#adjust for 3% ethanol condition\n",
    "probe_alc3 = find_probe_list(df_probe_list,df_control,df_alc3)\n",
    "dn_gene_alc3 = find_gene_ids(probe_alc3, probe_map,gene_map)\n",
    "model_alc3 = adjust_model(model,dn_gene_alc3)\n",
    "print(len(count_ko_reactions(model_alc3)))\n"
   ]
  },
  {
   "cell_type": "code",
   "execution_count": 27,
   "id": "Kjdo2LjDrubs",
   "metadata": {
    "colab": {
     "base_uri": "https://localhost:8080/"
    },
    "id": "Kjdo2LjDrubs",
    "outputId": "2827fae0-e9e0-4411-f05f-7eda3b24358b"
   },
   "outputs": [
    {
     "name": "stdout",
     "output_type": "stream",
     "text": [
      "19\n"
     ]
    }
   ],
   "source": [
    "#adjust for 7% ethanol condition\n",
    "probe_alc7 = find_probe_list(df_probe_list,df_control,df_alc7)\n",
    "dn_gene_alc7 = find_gene_ids(probe_alc7,probe_map,gene_map)\n",
    "model_alc7 = adjust_model(model,dn_gene_alc3)\n",
    "print(len(count_ko_reactions(model_alc7)))"
   ]
  },
  {
   "cell_type": "markdown",
   "id": "DTHDOa2NFUyP",
   "metadata": {
    "id": "DTHDOa2NFUyP"
   },
   "source": [
    "## 3.4 double KO on adjusted model"
   ]
  },
  {
   "cell_type": "markdown",
   "id": "tgOrZ7xuFtHO",
   "metadata": {
    "id": "tgOrZ7xuFtHO"
   },
   "source": [
    "Only need to run on the 3% alcahol model since it had the same amount of reactions knocked out as the 7% model"
   ]
  },
  {
   "cell_type": "code",
   "execution_count": 28,
   "id": "67c0adb3",
   "metadata": {},
   "outputs": [],
   "source": [
    "reaction_of_interest = 'r_1761' # ethanol export\n",
    "biomass_reaction_label = 'r_2111' # biomass function"
   ]
  },
  {
   "cell_type": "code",
   "execution_count": 29,
   "id": "fb50856b",
   "metadata": {},
   "outputs": [],
   "source": [
    "number_of_threads = 20"
   ]
  },
  {
   "cell_type": "markdown",
   "id": "8ad77c09",
   "metadata": {},
   "source": [
    "Having 1,150 genes to test implies 660,675 gene-pair evaluations.\n",
    "\n",
    "In in a 20 threads environment:\n",
    "\n",
    "- 50 x 50 genes implies 1,225 gene pairs which takes 36 sec.\n",
    "- 100 x 100 genes implies 4,950 gene pairs which takes 2 min 17 sec.\n",
    "- all genes implies 660,675 gene pairs and should take ~ 3.5 hours."
   ]
  },
  {
   "cell_type": "code",
   "execution_count": 30,
   "id": "02cYdWnEFans",
   "metadata": {
    "id": "02cYdWnEFans"
   },
   "outputs": [
    {
     "name": "stdout",
     "output_type": "stream",
     "text": [
      "2022-04-22 11:00:26 \t working with 1150 genes\n",
      "2022-04-22 11:00:27 \t working with 660675 gene pairs\n"
     ]
    }
   ],
   "source": [
    "printt('working with {} genes'.format(number_of_genes))\n",
    "\n",
    "tasks = []\n",
    "for i in range(len(model_alc3.genes)):\n",
    "    for j in range(len(model_alc3.genes)):\n",
    "        if i < j:\n",
    "            task = [i, j, reaction_of_interest, biomass_reaction_label, model_alc3]\n",
    "            tasks.append(task)\n",
    "printt('working with {} gene pairs'.format(len(tasks)))"
   ]
  },
  {
   "cell_type": "code",
   "execution_count": 31,
   "id": "83J0thuOFTmE",
   "metadata": {
    "id": "83J0thuOFTmE"
   },
   "outputs": [
    {
     "name": "stdout",
     "output_type": "stream",
     "text": [
      "2022-04-22 11:00:27 \t entering a parallel world of 20 threads\n"
     ]
    },
    {
     "name": "stderr",
     "output_type": "stream",
     "text": [
      "/home/adrian/anaconda3/lib/python3.8/site-packages/cobra/util/solver.py:554: UserWarning: Solver status is 'infeasible'.\n",
      "  warn(f\"Solver status is '{status}'.\", UserWarning)\n",
      "/home/adrian/anaconda3/lib/python3.8/site-packages/cobra/util/solver.py:554: UserWarning: Solver status is 'infeasible'.\n",
      "  warn(f\"Solver status is '{status}'.\", UserWarning)\n",
      "/home/adrian/anaconda3/lib/python3.8/site-packages/cobra/util/solver.py:554: UserWarning: Solver status is 'infeasible'.\n",
      "  warn(f\"Solver status is '{status}'.\", UserWarning)\n",
      "/home/adrian/anaconda3/lib/python3.8/site-packages/cobra/util/solver.py:554: UserWarning: Solver status is 'infeasible'.\n",
      "  warn(f\"Solver status is '{status}'.\", UserWarning)\n",
      "/home/adrian/anaconda3/lib/python3.8/site-packages/cobra/util/solver.py:554: UserWarning: Solver status is 'infeasible'.\n",
      "  warn(f\"Solver status is '{status}'.\", UserWarning)\n",
      "/home/adrian/anaconda3/lib/python3.8/site-packages/cobra/util/solver.py:554: UserWarning: Solver status is 'infeasible'.\n",
      "  warn(f\"Solver status is '{status}'.\", UserWarning)\n",
      "/home/adrian/anaconda3/lib/python3.8/site-packages/cobra/util/solver.py:554: UserWarning: Solver status is 'infeasible'.\n",
      "  warn(f\"Solver status is '{status}'.\", UserWarning)\n",
      "/home/adrian/anaconda3/lib/python3.8/site-packages/cobra/util/solver.py:554: UserWarning: Solver status is 'infeasible'.\n",
      "  warn(f\"Solver status is '{status}'.\", UserWarning)\n",
      "/home/adrian/anaconda3/lib/python3.8/site-packages/cobra/util/solver.py:554: UserWarning: Solver status is 'infeasible'.\n",
      "  warn(f\"Solver status is '{status}'.\", UserWarning)\n",
      "/home/adrian/anaconda3/lib/python3.8/site-packages/cobra/util/solver.py:554: UserWarning: Solver status is 'infeasible'.\n",
      "  warn(f\"Solver status is '{status}'.\", UserWarning)\n",
      "/home/adrian/anaconda3/lib/python3.8/site-packages/cobra/util/solver.py:554: UserWarning: Solver status is 'infeasible'.\n",
      "  warn(f\"Solver status is '{status}'.\", UserWarning)\n",
      "/home/adrian/anaconda3/lib/python3.8/site-packages/cobra/util/solver.py:554: UserWarning: Solver status is 'infeasible'.\n",
      "  warn(f\"Solver status is '{status}'.\", UserWarning)\n",
      "/home/adrian/anaconda3/lib/python3.8/site-packages/cobra/util/solver.py:554: UserWarning: Solver status is 'infeasible'.\n",
      "  warn(f\"Solver status is '{status}'.\", UserWarning)\n",
      "/home/adrian/anaconda3/lib/python3.8/site-packages/cobra/util/solver.py:554: UserWarning: Solver status is 'infeasible'.\n",
      "  warn(f\"Solver status is '{status}'.\", UserWarning)\n",
      "/home/adrian/anaconda3/lib/python3.8/site-packages/cobra/util/solver.py:554: UserWarning: Solver status is 'infeasible'.\n",
      "  warn(f\"Solver status is '{status}'.\", UserWarning)\n",
      "/home/adrian/anaconda3/lib/python3.8/site-packages/cobra/util/solver.py:554: UserWarning: Solver status is 'infeasible'.\n",
      "  warn(f\"Solver status is '{status}'.\", UserWarning)\n",
      "/home/adrian/anaconda3/lib/python3.8/site-packages/cobra/util/solver.py:554: UserWarning: Solver status is 'infeasible'.\n",
      "  warn(f\"Solver status is '{status}'.\", UserWarning)\n",
      "/home/adrian/anaconda3/lib/python3.8/site-packages/cobra/util/solver.py:554: UserWarning: Solver status is 'infeasible'.\n",
      "  warn(f\"Solver status is '{status}'.\", UserWarning)\n",
      "/home/adrian/anaconda3/lib/python3.8/site-packages/cobra/util/solver.py:554: UserWarning: Solver status is 'infeasible'.\n",
      "  warn(f\"Solver status is '{status}'.\", UserWarning)\n",
      "/home/adrian/anaconda3/lib/python3.8/site-packages/cobra/util/solver.py:554: UserWarning: Solver status is 'infeasible'.\n",
      "  warn(f\"Solver status is '{status}'.\", UserWarning)\n",
      "/home/adrian/anaconda3/lib/python3.8/site-packages/cobra/util/solver.py:554: UserWarning: Solver status is 'infeasible'.\n",
      "  warn(f\"Solver status is '{status}'.\", UserWarning)\n",
      "/home/adrian/anaconda3/lib/python3.8/site-packages/cobra/util/solver.py:554: UserWarning: Solver status is 'infeasible'.\n",
      "  warn(f\"Solver status is '{status}'.\", UserWarning)\n",
      "/home/adrian/anaconda3/lib/python3.8/site-packages/cobra/util/solver.py:554: UserWarning: Solver status is 'infeasible'.\n",
      "  warn(f\"Solver status is '{status}'.\", UserWarning)\n",
      "/home/adrian/anaconda3/lib/python3.8/site-packages/cobra/util/solver.py:554: UserWarning: Solver status is 'infeasible'.\n",
      "  warn(f\"Solver status is '{status}'.\", UserWarning)\n",
      "/home/adrian/anaconda3/lib/python3.8/site-packages/cobra/util/solver.py:554: UserWarning: Solver status is 'infeasible'.\n",
      "  warn(f\"Solver status is '{status}'.\", UserWarning)\n",
      "/home/adrian/anaconda3/lib/python3.8/site-packages/cobra/util/solver.py:554: UserWarning: Solver status is 'infeasible'.\n",
      "  warn(f\"Solver status is '{status}'.\", UserWarning)\n",
      "/home/adrian/anaconda3/lib/python3.8/site-packages/cobra/util/solver.py:554: UserWarning: Solver status is 'infeasible'.\n",
      "  warn(f\"Solver status is '{status}'.\", UserWarning)\n",
      "/home/adrian/anaconda3/lib/python3.8/site-packages/cobra/util/solver.py:554: UserWarning: Solver status is 'infeasible'.\n",
      "  warn(f\"Solver status is '{status}'.\", UserWarning)\n",
      "/home/adrian/anaconda3/lib/python3.8/site-packages/cobra/util/solver.py:554: UserWarning: Solver status is 'infeasible'.\n",
      "  warn(f\"Solver status is '{status}'.\", UserWarning)\n",
      "/home/adrian/anaconda3/lib/python3.8/site-packages/cobra/util/solver.py:554: UserWarning: Solver status is 'infeasible'.\n",
      "  warn(f\"Solver status is '{status}'.\", UserWarning)\n",
      "/home/adrian/anaconda3/lib/python3.8/site-packages/cobra/util/solver.py:554: UserWarning: Solver status is 'infeasible'.\n",
      "  warn(f\"Solver status is '{status}'.\", UserWarning)\n",
      "/home/adrian/anaconda3/lib/python3.8/site-packages/cobra/util/solver.py:554: UserWarning: Solver status is 'infeasible'.\n",
      "  warn(f\"Solver status is '{status}'.\", UserWarning)\n"
     ]
    },
    {
     "name": "stdout",
     "output_type": "stream",
     "text": [
      "2022-04-22 16:13:59 \t completed 660675 tasks\n",
      "CPU times: user 12 s, sys: 768 ms, total: 12.8 s\n",
      "Wall time: 5h 13min 32s\n"
     ]
    }
   ],
   "source": [
    "%%time\n",
    "printt('entering a parallel world of {} threads'.format(number_of_threads))\n",
    "hydra = multiprocessing.pool.Pool(number_of_threads)\n",
    "hydra_output = hydra.map(growth_coupled_analysis, tasks)\n",
    "hydra.close()\n",
    "printt('completed {} tasks'.format(len(hydra_output)))"
   ]
  },
  {
   "cell_type": "code",
   "execution_count": 35,
   "id": "oZkhgFpGFlpJ",
   "metadata": {
    "id": "oZkhgFpGFlpJ"
   },
   "outputs": [],
   "source": [
    "df = pandas.DataFrame(hydra_output, columns=['i', 'j', 'KO growth', 'min production', 'max production'])\n",
    "df.sort_values(by=['min production'], ascending=False, inplace=True)"
   ]
  },
  {
   "cell_type": "code",
   "execution_count": 36,
   "id": "vEoyjU1wFl-k",
   "metadata": {
    "id": "vEoyjU1wFl-k"
   },
   "outputs": [
    {
     "name": "stdout",
     "output_type": "stream",
     "text": [
      "2022-04-22 16:31:29 \t store double KO information as a dataframe\n"
     ]
    }
   ],
   "source": [
    "printt('store double KO information as a dataframe')\n",
    "\n",
    "with open('doubleKO_down.json', 'w') as f:\n",
    "    json.dump(df.to_json(), f)"
   ]
  },
  {
   "cell_type": "code",
   "execution_count": 37,
   "id": "ff40bd88",
   "metadata": {},
   "outputs": [
    {
     "name": "stdout",
     "output_type": "stream",
     "text": [
      "(660675, 5)\n"
     ]
    },
    {
     "data": {
      "text/html": [
       "<div>\n",
       "<style scoped>\n",
       "    .dataframe tbody tr th:only-of-type {\n",
       "        vertical-align: middle;\n",
       "    }\n",
       "\n",
       "    .dataframe tbody tr th {\n",
       "        vertical-align: top;\n",
       "    }\n",
       "\n",
       "    .dataframe thead th {\n",
       "        text-align: right;\n",
       "    }\n",
       "</style>\n",
       "<table border=\"1\" class=\"dataframe\">\n",
       "  <thead>\n",
       "    <tr style=\"text-align: right;\">\n",
       "      <th></th>\n",
       "      <th>i</th>\n",
       "      <th>j</th>\n",
       "      <th>KO growth</th>\n",
       "      <th>min production</th>\n",
       "      <th>max production</th>\n",
       "    </tr>\n",
       "  </thead>\n",
       "  <tbody>\n",
       "    <tr>\n",
       "      <th>245710</th>\n",
       "      <td>238</td>\n",
       "      <td>690</td>\n",
       "      <td>0</td>\n",
       "      <td>0.1</td>\n",
       "      <td>1.06</td>\n",
       "    </tr>\n",
       "    <tr>\n",
       "      <th>142562</th>\n",
       "      <td>131</td>\n",
       "      <td>690</td>\n",
       "      <td>0</td>\n",
       "      <td>0.1</td>\n",
       "      <td>1.06</td>\n",
       "    </tr>\n",
       "    <tr>\n",
       "      <th>142400</th>\n",
       "      <td>131</td>\n",
       "      <td>528</td>\n",
       "      <td>0</td>\n",
       "      <td>0.1</td>\n",
       "      <td>1.06</td>\n",
       "    </tr>\n",
       "    <tr>\n",
       "      <th>3968</th>\n",
       "      <td>3</td>\n",
       "      <td>528</td>\n",
       "      <td>0</td>\n",
       "      <td>0.1</td>\n",
       "      <td>1.06</td>\n",
       "    </tr>\n",
       "    <tr>\n",
       "      <th>689</th>\n",
       "      <td>0</td>\n",
       "      <td>690</td>\n",
       "      <td>0</td>\n",
       "      <td>0.1</td>\n",
       "      <td>1.06</td>\n",
       "    </tr>\n",
       "  </tbody>\n",
       "</table>\n",
       "</div>"
      ],
      "text/plain": [
       "          i    j  KO growth  min production  max production\n",
       "245710  238  690          0             0.1            1.06\n",
       "142562  131  690          0             0.1            1.06\n",
       "142400  131  528          0             0.1            1.06\n",
       "3968      3  528          0             0.1            1.06\n",
       "689       0  690          0             0.1            1.06"
      ]
     },
     "execution_count": 37,
     "metadata": {},
     "output_type": "execute_result"
    }
   ],
   "source": [
    "# how to read the JSON file\n",
    "with open('doubleKO_down.json', 'r') as f:\n",
    "    new_str = json.load(f)\n",
    "new = pandas.read_json(new_str)\n",
    "print(new.shape)\n",
    "new.head()"
   ]
  },
  {
   "cell_type": "code",
   "execution_count": null,
   "id": "9b3fba1e",
   "metadata": {},
   "outputs": [],
   "source": []
  }
 ],
 "metadata": {
  "colab": {
   "collapsed_sections": [],
   "name": "growth-coupled design yeast downregulated model.ipynb",
   "provenance": []
  },
  "kernelspec": {
   "display_name": "Python 3",
   "language": "python",
   "name": "python3"
  },
  "language_info": {
   "codemirror_mode": {
    "name": "ipython",
    "version": 3
   },
   "file_extension": ".py",
   "mimetype": "text/x-python",
   "name": "python",
   "nbconvert_exporter": "python",
   "pygments_lexer": "ipython3",
   "version": "3.8.13"
  }
 },
 "nbformat": 4,
 "nbformat_minor": 5
}
