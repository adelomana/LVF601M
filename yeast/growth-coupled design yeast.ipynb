{
 "cells": [
  {
   "cell_type": "code",
   "execution_count": 36,
   "id": "8a89e221",
   "metadata": {},
   "outputs": [],
   "source": [
    "import numpy, pandas, datetime, importlib, dotenv, os, cobra, pickle"
   ]
  },
  {
   "cell_type": "code",
   "execution_count": 2,
   "id": "e5febaa1",
   "metadata": {},
   "outputs": [],
   "source": [
    "import multiprocessing, multiprocessing.pool\n",
    "from multiprocessing import Process, Queue"
   ]
  },
  {
   "cell_type": "code",
   "execution_count": 3,
   "id": "f9a89afd",
   "metadata": {},
   "outputs": [],
   "source": [
    "import matplotlib, matplotlib.pyplot\n",
    "matplotlib.rcParams.update({'font.size':20, 'font.family':'FreeSans', 'xtick.labelsize':30, 'ytick.labelsize':30, 'axes.labelsize':40, 'figure.figsize':(12, 8)})"
   ]
  },
  {
   "cell_type": "code",
   "execution_count": 4,
   "id": "77b2a3da",
   "metadata": {},
   "outputs": [],
   "source": [
    "def growth_coupled_analysis(task):\n",
    "    \n",
    "    \"\"\"\n",
    "    This function performs the growth-coupled production.\n",
    "    It takes as input a list as [first_gene_pair_index, second_gene_pair_index, reaction_of_interest, biomass_reaction_label]\n",
    "    It gives as output a list as [first_gene_pair_index, second_gene_pair_index, growth, min_production, max_production]\n",
    "    \"\"\"\n",
    "    \n",
    "    i = task[0]\n",
    "    j = task[1]\n",
    "    reaction_of_interest = task[2]\n",
    "    biomass_reaction_label = task[3]\n",
    "    model = task[4]\n",
    "    \n",
    "    with model as model:\n",
    "                \n",
    "        # KO\n",
    "        model.genes[i].knock_out()\n",
    "        model.genes[j].knock_out()\n",
    "        solution = model.optimize()\n",
    "        if solution.status == 'optimal':\n",
    "            ko_growth = solution.objective_value\n",
    "\n",
    "            # growth-coupled production\n",
    "            model.objective = reaction_of_interest\n",
    "            model.reactions.get_by_id(biomass_reaction_label).lower_bound = ko_growth\n",
    "            max_production = model.optimize(objective_sense='maximize').objective_value\n",
    "            min_production = model.optimize(objective_sense='minimize').objective_value\n",
    "            \n",
    "            result = [i, j, ko_growth, min_production, max_production]\n",
    "        else:\n",
    "            result = [i, j, 0, 0, 0]\n",
    "\n",
    "    return result"
   ]
  },
  {
   "cell_type": "code",
   "execution_count": 5,
   "id": "f42fc7ac",
   "metadata": {},
   "outputs": [],
   "source": [
    "def printt(message):\n",
    "\n",
    "    print(datetime.datetime.now().strftime(\"%Y-%m-%d %H:%M:%S \\t {}\".format(message)))\n",
    "\n",
    "    return None"
   ]
  },
  {
   "cell_type": "markdown",
   "id": "74ebf9e7",
   "metadata": {},
   "source": [
    "# 1. load the model"
   ]
  },
  {
   "cell_type": "code",
   "execution_count": 6,
   "id": "7915fb88",
   "metadata": {},
   "outputs": [],
   "source": [
    "io_path = '/home/adrian/hub/LVF601M/yeast/yeast-GEM/code/io.py'"
   ]
  },
  {
   "cell_type": "markdown",
   "id": "fdef1be5",
   "metadata": {},
   "source": [
    "Clone just once."
   ]
  },
  {
   "cell_type": "code",
   "execution_count": 7,
   "id": "826beebe",
   "metadata": {},
   "outputs": [],
   "source": [
    "#! git clone https://github.com/SysBioChalmers/yeast-GEM.git"
   ]
  },
  {
   "cell_type": "markdown",
   "id": "6e3fe1f4",
   "metadata": {},
   "source": [
    "Here is the nightmare of reading the model using their methods."
   ]
  },
  {
   "cell_type": "code",
   "execution_count": 8,
   "id": "afdb7510",
   "metadata": {},
   "outputs": [],
   "source": [
    "os.chdir('yeast-GEM')\n",
    "#! touch .env\n",
    "\n",
    "# find .env + define paths:\n",
    "dotenv_path = dotenv.find_dotenv()\n",
    "REPO_PATH = os.path.dirname(dotenv_path)\n",
    "MODEL_PATH = f\"{REPO_PATH}/model/yeast-GEM.xml\""
   ]
  },
  {
   "cell_type": "code",
   "execution_count": 9,
   "id": "91b154bd",
   "metadata": {},
   "outputs": [
    {
     "name": "stdout",
     "output_type": "stream",
     "text": [
      "Restricted license - for non-production use only - expires 2023-10-25\n"
     ]
    }
   ],
   "source": [
    "spec = importlib.util.spec_from_file_location(\"i_dont_know_what_is_this\", io_path)\n",
    "foo = importlib.util.module_from_spec(spec)\n",
    "spec.loader.exec_module(foo)\n",
    "model = foo.read_yeast_model()"
   ]
  },
  {
   "cell_type": "markdown",
   "id": "b1466149",
   "metadata": {},
   "source": [
    "# 2. explore the model"
   ]
  },
  {
   "cell_type": "code",
   "execution_count": 10,
   "id": "6facafa0",
   "metadata": {},
   "outputs": [
    {
     "data": {
      "text/plain": [
       "<optlang.cplex_interface.Model at 0x7f92ec80adc0>"
      ]
     },
     "execution_count": 10,
     "metadata": {},
     "output_type": "execute_result"
    }
   ],
   "source": [
    "working_solver = \"cplex\" # much faster version of glpk\n",
    "model.solver = working_solver\n",
    "model.solver"
   ]
  },
  {
   "cell_type": "code",
   "execution_count": 11,
   "id": "ecc9361a",
   "metadata": {},
   "outputs": [
    {
     "data": {
      "text/html": [
       "\n",
       "        <table>\n",
       "            <tr>\n",
       "                <td><strong>Metabolite identifier</strong></td><td>s_0681[e]</td>\n",
       "            </tr><tr>\n",
       "                <td><strong>Name</strong></td><td>ethanol [extracellular]</td>\n",
       "            </tr><tr>\n",
       "                <td><strong>Memory address</strong></td>\n",
       "                <td>0x07f92f0fcf670</td>\n",
       "            </tr><tr>\n",
       "                <td><strong>Formula</strong></td><td>C2H6O</td>\n",
       "            </tr><tr>\n",
       "                <td><strong>Compartment</strong></td><td>e</td>\n",
       "            </tr><tr>\n",
       "                <td><strong>In 2 reaction(s)</strong></td><td>\n",
       "                    r_1761, r_1762</td>\n",
       "            </tr>\n",
       "        </table>"
      ],
      "text/plain": [
       "<Metabolite s_0681[e] at 0x7f92f0fcf670>"
      ]
     },
     "execution_count": 11,
     "metadata": {},
     "output_type": "execute_result"
    }
   ],
   "source": [
    "model.metabolites.get_by_id(\"s_0681[e]\") #s_0681[e] is the id of ethanol in the model"
   ]
  },
  {
   "cell_type": "code",
   "execution_count": 12,
   "id": "54d1a6f9",
   "metadata": {},
   "outputs": [
    {
     "data": {
      "text/html": [
       "\n",
       "        <table>\n",
       "            <tr>\n",
       "                <td><strong>Reaction identifier</strong></td><td>r_1761</td>\n",
       "            </tr><tr>\n",
       "                <td><strong>Name</strong></td><td>ethanol exchange</td>\n",
       "            </tr><tr>\n",
       "                <td><strong>Memory address</strong></td>\n",
       "                <td>0x07f92ef603400</td>\n",
       "            </tr><tr>\n",
       "                <td><strong>Stoichiometry</strong></td>\n",
       "                <td>\n",
       "                    <p style='text-align:right'>s_0681[e] --></p>\n",
       "                    <p style='text-align:right'>ethanol [extracellular] --></p>\n",
       "                </td>\n",
       "            </tr><tr>\n",
       "                <td><strong>GPR</strong></td><td></td>\n",
       "            </tr><tr>\n",
       "                <td><strong>Lower bound</strong></td><td>0.0</td>\n",
       "            </tr><tr>\n",
       "                <td><strong>Upper bound</strong></td><td>1000.0</td>\n",
       "            </tr>\n",
       "        </table>\n",
       "        "
      ],
      "text/plain": [
       "<Reaction r_1761 at 0x7f92ef603400>"
      ]
     },
     "execution_count": 12,
     "metadata": {},
     "output_type": "execute_result"
    }
   ],
   "source": [
    "model.reactions.get_by_id('r_1761')"
   ]
  },
  {
   "cell_type": "code",
   "execution_count": 13,
   "id": "d3619540",
   "metadata": {},
   "outputs": [
    {
     "data": {
      "text/html": [
       "\n",
       "        <table>\n",
       "            <tr>\n",
       "                <td><strong>Reaction identifier</strong></td><td>r_1762</td>\n",
       "            </tr><tr>\n",
       "                <td><strong>Name</strong></td><td>ethanol transport</td>\n",
       "            </tr><tr>\n",
       "                <td><strong>Memory address</strong></td>\n",
       "                <td>0x07f92ef603700</td>\n",
       "            </tr><tr>\n",
       "                <td><strong>Stoichiometry</strong></td>\n",
       "                <td>\n",
       "                    <p style='text-align:right'>s_0680[c] <=> s_0681[e]</p>\n",
       "                    <p style='text-align:right'>ethanol [cytoplasm] <=> ethanol [extracellular]</p>\n",
       "                </td>\n",
       "            </tr><tr>\n",
       "                <td><strong>GPR</strong></td><td></td>\n",
       "            </tr><tr>\n",
       "                <td><strong>Lower bound</strong></td><td>-1000.0</td>\n",
       "            </tr><tr>\n",
       "                <td><strong>Upper bound</strong></td><td>1000.0</td>\n",
       "            </tr>\n",
       "        </table>\n",
       "        "
      ],
      "text/plain": [
       "<Reaction r_1762 at 0x7f92ef603700>"
      ]
     },
     "execution_count": 13,
     "metadata": {},
     "output_type": "execute_result"
    }
   ],
   "source": [
    "model.reactions.get_by_id('r_1762')"
   ]
  },
  {
   "cell_type": "code",
   "execution_count": 14,
   "id": "e313be84",
   "metadata": {},
   "outputs": [
    {
     "data": {
      "text/html": [
       "<h3>Objective</h3><p>1.0 r_2111 = 0.08374770604149201</p><h4>Uptake</h4><table border=\"1\" class=\"dataframe\">\n",
       "  <thead>\n",
       "    <tr style=\"text-align: right;\">\n",
       "      <th>Metabolite</th>\n",
       "      <th>Reaction</th>\n",
       "      <th>Flux</th>\n",
       "      <th>C-Number</th>\n",
       "      <th>C-Flux</th>\n",
       "    </tr>\n",
       "  </thead>\n",
       "  <tbody>\n",
       "    <tr>\n",
       "      <td>s_0420[e]</td>\n",
       "      <td>r_1654</td>\n",
       "      <td>0.5988</td>\n",
       "      <td>0</td>\n",
       "      <td>0.00%</td>\n",
       "    </tr>\n",
       "    <tr>\n",
       "      <td>s_0565[e]</td>\n",
       "      <td>r_1714</td>\n",
       "      <td>1</td>\n",
       "      <td>6</td>\n",
       "      <td>100.00%</td>\n",
       "    </tr>\n",
       "    <tr>\n",
       "      <td>s_0796[e]</td>\n",
       "      <td>r_1832</td>\n",
       "      <td>0.04236</td>\n",
       "      <td>0</td>\n",
       "      <td>0.00%</td>\n",
       "    </tr>\n",
       "    <tr>\n",
       "      <td>s_0925[e]</td>\n",
       "      <td>r_1861</td>\n",
       "      <td>2.63E-06</td>\n",
       "      <td>0</td>\n",
       "      <td>0.00%</td>\n",
       "    </tr>\n",
       "    <tr>\n",
       "      <td>s_1277[e]</td>\n",
       "      <td>r_1992</td>\n",
       "      <td>2.25</td>\n",
       "      <td>0</td>\n",
       "      <td>0.00%</td>\n",
       "    </tr>\n",
       "    <tr>\n",
       "      <td>s_1324[e]</td>\n",
       "      <td>r_2005</td>\n",
       "      <td>0.545</td>\n",
       "      <td>0</td>\n",
       "      <td>0.00%</td>\n",
       "    </tr>\n",
       "    <tr>\n",
       "      <td>s_1374[e]</td>\n",
       "      <td>r_2020</td>\n",
       "      <td>0.000304</td>\n",
       "      <td>0</td>\n",
       "      <td>0.00%</td>\n",
       "    </tr>\n",
       "    <tr>\n",
       "      <td>s_1438[e]</td>\n",
       "      <td>r_2049</td>\n",
       "      <td>0.0003325</td>\n",
       "      <td>0</td>\n",
       "      <td>0.00%</td>\n",
       "    </tr>\n",
       "    <tr>\n",
       "      <td>s_1468[e]</td>\n",
       "      <td>r_2060</td>\n",
       "      <td>0.007203</td>\n",
       "      <td>0</td>\n",
       "      <td>0.00%</td>\n",
       "    </tr>\n",
       "    <tr>\n",
       "      <td>s_4200[e]</td>\n",
       "      <td>r_4593</td>\n",
       "      <td>0.000108</td>\n",
       "      <td>0</td>\n",
       "      <td>0.00%</td>\n",
       "    </tr>\n",
       "    <tr>\n",
       "      <td>s_4201[e]</td>\n",
       "      <td>r_4594</td>\n",
       "      <td>5.519E-05</td>\n",
       "      <td>0</td>\n",
       "      <td>0.00%</td>\n",
       "    </tr>\n",
       "    <tr>\n",
       "      <td>s_4202[e]</td>\n",
       "      <td>r_4595</td>\n",
       "      <td>0.0002286</td>\n",
       "      <td>0</td>\n",
       "      <td>0.00%</td>\n",
       "    </tr>\n",
       "    <tr>\n",
       "      <td>s_4203[e]</td>\n",
       "      <td>r_4596</td>\n",
       "      <td>6.264E-05</td>\n",
       "      <td>0</td>\n",
       "      <td>0.00%</td>\n",
       "    </tr>\n",
       "    <tr>\n",
       "      <td>s_4204[e]</td>\n",
       "      <td>r_4597</td>\n",
       "      <td>0.0001041</td>\n",
       "      <td>0</td>\n",
       "      <td>0.00%</td>\n",
       "    </tr>\n",
       "    <tr>\n",
       "      <td>s_4199[e]</td>\n",
       "      <td>r_4600</td>\n",
       "      <td>1.817E-05</td>\n",
       "      <td>0</td>\n",
       "      <td>0.00%</td>\n",
       "    </tr>\n",
       "  </tbody>\n",
       "</table><h4>Secretion</h4><table border=\"1\" class=\"dataframe\">\n",
       "  <thead>\n",
       "    <tr style=\"text-align: right;\">\n",
       "      <th>Metabolite</th>\n",
       "      <th>Reaction</th>\n",
       "      <th>Flux</th>\n",
       "      <th>C-Number</th>\n",
       "      <th>C-Flux</th>\n",
       "    </tr>\n",
       "  </thead>\n",
       "  <tbody>\n",
       "    <tr>\n",
       "      <td>s_0458[e]</td>\n",
       "      <td>r_1672</td>\n",
       "      <td>-2.39</td>\n",
       "      <td>1</td>\n",
       "      <td>100.00%</td>\n",
       "    </tr>\n",
       "    <tr>\n",
       "      <td>s_0776[e]</td>\n",
       "      <td>r_1814</td>\n",
       "      <td>-5.41E-06</td>\n",
       "      <td>2</td>\n",
       "      <td>0.00%</td>\n",
       "    </tr>\n",
       "    <tr>\n",
       "      <td>s_0805[e]</td>\n",
       "      <td>r_2100</td>\n",
       "      <td>-4.302</td>\n",
       "      <td>0</td>\n",
       "      <td>0.00%</td>\n",
       "    </tr>\n",
       "    <tr>\n",
       "      <td>s_0450[c]</td>\n",
       "      <td>r_2111</td>\n",
       "      <td>-0.08375</td>\n",
       "      <td>0</td>\n",
       "      <td>0.00%</td>\n",
       "    </tr>\n",
       "    <tr>\n",
       "      <td>s_4157[e]</td>\n",
       "      <td>r_4527</td>\n",
       "      <td>-0.2515</td>\n",
       "      <td>0</td>\n",
       "      <td>0.00%</td>\n",
       "    </tr>\n",
       "  </tbody>\n",
       "</table>"
      ],
      "text/plain": [
       "<cobra.summary.model_summary.ModelSummary at 0x7f92eb314eb0>"
      ]
     },
     "execution_count": 14,
     "metadata": {},
     "output_type": "execute_result"
    }
   ],
   "source": [
    "model.summary()"
   ]
  },
  {
   "cell_type": "code",
   "execution_count": 15,
   "id": "98cc6e24",
   "metadata": {},
   "outputs": [
    {
     "name": "stdout",
     "output_type": "stream",
     "text": [
      "0.08374770604149129\n"
     ]
    }
   ],
   "source": [
    "wt_solution = model.optimize()\n",
    "print(wt_solution.objective_value)"
   ]
  },
  {
   "cell_type": "code",
   "execution_count": 16,
   "id": "59b005e0",
   "metadata": {},
   "outputs": [
    {
     "name": "stdout",
     "output_type": "stream",
     "text": [
      "1150\n"
     ]
    }
   ],
   "source": [
    "number_of_genes = len(model.genes)\n",
    "print(number_of_genes)"
   ]
  },
  {
   "cell_type": "markdown",
   "id": "e477fee8",
   "metadata": {},
   "source": [
    "# 2. growth-coupled metabolite production exploration"
   ]
  },
  {
   "cell_type": "markdown",
   "id": "5f9958e9",
   "metadata": {},
   "source": [
    "## 2.1. define metabolite of interest and biomass function label"
   ]
  },
  {
   "cell_type": "code",
   "execution_count": 17,
   "id": "194f5481",
   "metadata": {},
   "outputs": [],
   "source": [
    "reaction_of_interest = 'r_1761' # ethanol export\n",
    "biomass_reaction_label = 'r_2111' # biomass function"
   ]
  },
  {
   "cell_type": "markdown",
   "id": "ddbb50fb",
   "metadata": {},
   "source": [
    "## 2.2. run serial"
   ]
  },
  {
   "cell_type": "markdown",
   "id": "0280e5ab",
   "metadata": {},
   "source": [
    "- 1,225 pairs (50 x 50 genes) takes 3 min 8 sec in serial"
   ]
  },
  {
   "cell_type": "code",
   "execution_count": 18,
   "id": "336aef5a",
   "metadata": {
    "scrolled": false
   },
   "outputs": [
    {
     "name": "stdout",
     "output_type": "stream",
     "text": [
      "CPU times: user 3min 10s, sys: 35.7 ms, total: 3min 10s\n",
      "Wall time: 3min 10s\n"
     ]
    }
   ],
   "source": [
    "%%time\n",
    "results = []\n",
    "for i in range(len(model.genes[:50])):\n",
    "    for j in range(len(model.genes[:50])):\n",
    "        if i < j:\n",
    "            \n",
    "            task = [i, j, reaction_of_interest, biomass_reaction_label, model]\n",
    "            result = growth_coupled_analysis(task)\n",
    "            results.append(result)         "
   ]
  },
  {
   "cell_type": "code",
   "execution_count": 19,
   "id": "c263ae46",
   "metadata": {},
   "outputs": [
    {
     "name": "stdout",
     "output_type": "stream",
     "text": [
      "1225\n"
     ]
    },
    {
     "data": {
      "text/html": [
       "<div>\n",
       "<style scoped>\n",
       "    .dataframe tbody tr th:only-of-type {\n",
       "        vertical-align: middle;\n",
       "    }\n",
       "\n",
       "    .dataframe tbody tr th {\n",
       "        vertical-align: top;\n",
       "    }\n",
       "\n",
       "    .dataframe thead th {\n",
       "        text-align: right;\n",
       "    }\n",
       "</style>\n",
       "<table border=\"1\" class=\"dataframe\">\n",
       "  <thead>\n",
       "    <tr style=\"text-align: right;\">\n",
       "      <th></th>\n",
       "      <th>i</th>\n",
       "      <th>j</th>\n",
       "      <th>KO growth</th>\n",
       "      <th>min production</th>\n",
       "      <th>max production</th>\n",
       "    </tr>\n",
       "  </thead>\n",
       "  <tbody>\n",
       "    <tr>\n",
       "      <th>0</th>\n",
       "      <td>0</td>\n",
       "      <td>1</td>\n",
       "      <td>0.012067</td>\n",
       "      <td>1.765582</td>\n",
       "      <td>1.806006</td>\n",
       "    </tr>\n",
       "    <tr>\n",
       "      <th>1</th>\n",
       "      <td>0</td>\n",
       "      <td>2</td>\n",
       "      <td>0.012067</td>\n",
       "      <td>1.765582</td>\n",
       "      <td>1.806006</td>\n",
       "    </tr>\n",
       "    <tr>\n",
       "      <th>2</th>\n",
       "      <td>0</td>\n",
       "      <td>3</td>\n",
       "      <td>0.012067</td>\n",
       "      <td>1.765582</td>\n",
       "      <td>1.806006</td>\n",
       "    </tr>\n",
       "    <tr>\n",
       "      <th>3</th>\n",
       "      <td>0</td>\n",
       "      <td>4</td>\n",
       "      <td>0.012067</td>\n",
       "      <td>1.765582</td>\n",
       "      <td>1.806006</td>\n",
       "    </tr>\n",
       "    <tr>\n",
       "      <th>4</th>\n",
       "      <td>0</td>\n",
       "      <td>5</td>\n",
       "      <td>0.012067</td>\n",
       "      <td>1.765582</td>\n",
       "      <td>1.806006</td>\n",
       "    </tr>\n",
       "  </tbody>\n",
       "</table>\n",
       "</div>"
      ],
      "text/plain": [
       "   i  j  KO growth  min production  max production\n",
       "0  0  1   0.012067        1.765582        1.806006\n",
       "1  0  2   0.012067        1.765582        1.806006\n",
       "2  0  3   0.012067        1.765582        1.806006\n",
       "3  0  4   0.012067        1.765582        1.806006\n",
       "4  0  5   0.012067        1.765582        1.806006"
      ]
     },
     "execution_count": 19,
     "metadata": {},
     "output_type": "execute_result"
    }
   ],
   "source": [
    "print(len(results))\n",
    "df = pandas.DataFrame(results, columns=['i', 'j', 'KO growth', 'min production', 'max production'])\n",
    "df.head()"
   ]
  },
  {
   "cell_type": "code",
   "execution_count": 20,
   "id": "73d955cf",
   "metadata": {
    "scrolled": true
   },
   "outputs": [
    {
     "data": {
      "text/html": [
       "<div>\n",
       "<style scoped>\n",
       "    .dataframe tbody tr th:only-of-type {\n",
       "        vertical-align: middle;\n",
       "    }\n",
       "\n",
       "    .dataframe tbody tr th {\n",
       "        vertical-align: top;\n",
       "    }\n",
       "\n",
       "    .dataframe thead th {\n",
       "        text-align: right;\n",
       "    }\n",
       "</style>\n",
       "<table border=\"1\" class=\"dataframe\">\n",
       "  <thead>\n",
       "    <tr style=\"text-align: right;\">\n",
       "      <th></th>\n",
       "      <th>i</th>\n",
       "      <th>j</th>\n",
       "      <th>KO growth</th>\n",
       "      <th>min production</th>\n",
       "      <th>max production</th>\n",
       "    </tr>\n",
       "  </thead>\n",
       "  <tbody>\n",
       "    <tr>\n",
       "      <th>875</th>\n",
       "      <td>23</td>\n",
       "      <td>25</td>\n",
       "      <td>0.012094</td>\n",
       "      <td>1.805569</td>\n",
       "      <td>1.805569</td>\n",
       "    </tr>\n",
       "    <tr>\n",
       "      <th>934</th>\n",
       "      <td>25</td>\n",
       "      <td>35</td>\n",
       "      <td>0.012094</td>\n",
       "      <td>1.805569</td>\n",
       "      <td>1.805569</td>\n",
       "    </tr>\n",
       "    <tr>\n",
       "      <th>930</th>\n",
       "      <td>25</td>\n",
       "      <td>31</td>\n",
       "      <td>0.012094</td>\n",
       "      <td>1.805569</td>\n",
       "      <td>1.805569</td>\n",
       "    </tr>\n",
       "    <tr>\n",
       "      <th>945</th>\n",
       "      <td>25</td>\n",
       "      <td>46</td>\n",
       "      <td>0.012094</td>\n",
       "      <td>1.805569</td>\n",
       "      <td>1.805569</td>\n",
       "    </tr>\n",
       "    <tr>\n",
       "      <th>947</th>\n",
       "      <td>25</td>\n",
       "      <td>48</td>\n",
       "      <td>0.012094</td>\n",
       "      <td>1.805569</td>\n",
       "      <td>1.805569</td>\n",
       "    </tr>\n",
       "  </tbody>\n",
       "</table>\n",
       "</div>"
      ],
      "text/plain": [
       "      i   j  KO growth  min production  max production\n",
       "875  23  25   0.012094        1.805569        1.805569\n",
       "934  25  35   0.012094        1.805569        1.805569\n",
       "930  25  31   0.012094        1.805569        1.805569\n",
       "945  25  46   0.012094        1.805569        1.805569\n",
       "947  25  48   0.012094        1.805569        1.805569"
      ]
     },
     "execution_count": 20,
     "metadata": {},
     "output_type": "execute_result"
    }
   ],
   "source": [
    "df.sort_values(by=['min production'], ascending=False).head()"
   ]
  },
  {
   "cell_type": "markdown",
   "id": "220ac7cd",
   "metadata": {},
   "source": [
    "### 2.2.1. plot production envelope"
   ]
  },
  {
   "cell_type": "code",
   "execution_count": 21,
   "id": "5a7c9cf1",
   "metadata": {},
   "outputs": [],
   "source": [
    "# WT\n",
    "plotting_wt_biomass = []\n",
    "wt_production = []\n",
    "\n",
    "biomass_space = numpy.linspace(0, wt_solution.objective_value, 100)\n",
    "\n",
    "with model as model:\n",
    "    model.objective = reaction_of_interest\n",
    "    for target in biomass_space:\n",
    "        model.reactions.get_by_id(biomass_reaction_label).bounds = (target, target)\n",
    "        solution = model.optimize()\n",
    "        if solution.status == 'optimal':\n",
    "            plotting_wt_biomass.append(target); wt_production.append(solution.objective_value)"
   ]
  },
  {
   "cell_type": "code",
   "execution_count": 22,
   "id": "2a3b8006",
   "metadata": {},
   "outputs": [],
   "source": [
    "# KO\n",
    "i=3; j=40\n",
    "\n",
    "plotting_ko_biomass = []\n",
    "max_productions = []\n",
    "min_productions = []\n",
    "\n",
    "with model as model:\n",
    "    model.genes[i].knock_out() \n",
    "    model.genes[j].knock_out()\n",
    "    ko_solution = model.optimize()\n",
    "    \n",
    "    biomass_space = numpy.linspace(0, ko_solution.objective_value, 100)\n",
    "    with model as model:\n",
    "        model.objective = reaction_of_interest\n",
    "        for target in biomass_space:\n",
    "            model.reactions.get_by_id(biomass_reaction_label).lower_bound = target\n",
    "            max_production = model.optimize(objective_sense='maximize').objective_value\n",
    "            min_production = model.optimize(objective_sense='minimize').objective_value\n",
    "            plotting_ko_biomass.append(target); max_productions.append(max_production); min_productions.append(min_production)"
   ]
  },
  {
   "cell_type": "code",
   "execution_count": 23,
   "id": "fe2d647d",
   "metadata": {},
   "outputs": [
    {
     "data": {
      "image/png": "[encoded data removed]",
      "text/plain": [
       "<Figure size 864x576 with 1 Axes>"
      ]
     },
     "metadata": {
      "needs_background": "light"
     },
     "output_type": "display_data"
    }
   ],
   "source": [
    "# make figure\n",
    "matplotlib.pyplot.plot(plotting_wt_biomass, wt_production, '-', color='black', lw=4, label='WT')\n",
    "matplotlib.pyplot.fill_between(plotting_ko_biomass, min_productions, max_productions, color='orange', alpha=0.5, label='KO')\n",
    "\n",
    "matplotlib.pyplot.xlabel('Growth')\n",
    "matplotlib.pyplot.ylabel('Production')\n",
    "matplotlib.pyplot.grid(ls=':')\n",
    "matplotlib.pyplot.legend()\n",
    "\n",
    "matplotlib.pyplot.tight_layout()"
   ]
  },
  {
   "cell_type": "markdown",
   "id": "5b722c44",
   "metadata": {},
   "source": [
    "## 2.3. run in parallel environment"
   ]
  },
  {
   "cell_type": "markdown",
   "id": "73d7ce81",
   "metadata": {},
   "source": [
    "Using multiprocessing could be difficult because if the function yields an error, it is difficult to track. Consider using testing functions and serial code as in previous section to avoid errors while executing the parallel approach."
   ]
  },
  {
   "cell_type": "code",
   "execution_count": 32,
   "id": "a800448a",
   "metadata": {},
   "outputs": [],
   "source": [
    "number_of_threads = 20"
   ]
  },
  {
   "cell_type": "markdown",
   "id": "c8854ffb",
   "metadata": {},
   "source": [
    "Having 1,150 genes to test implies 660,675 gene-pair evaluations.  \n",
    "\n",
    "In in a 20 threads environment:  \n",
    "\n",
    "- 50 x 50 genes implies 1,225 gene pairs which takes 33 sec.\n",
    "- 100 x 100 genes implies 4,950 gene pairs which takes 1 min 45 sec.\n",
    "- 450 x 450 genes implies 101,025 gene pairs which takes 35 min.\n",
    "- all genes implies 660,675 gene pairs which takes xx min."
   ]
  },
  {
   "cell_type": "code",
   "execution_count": 33,
   "id": "184037b7",
   "metadata": {},
   "outputs": [
    {
     "name": "stdout",
     "output_type": "stream",
     "text": [
      "2022-03-29 19:29:39 \t working with 1150 genes\n",
      "2022-03-29 19:29:39 \t working with 101025 gene pairs\n"
     ]
    }
   ],
   "source": [
    "printt('working with {} genes'.format(number_of_genes))\n",
    "\n",
    "tasks = []\n",
    "for i in range(len(model.genes[:450])):\n",
    "    for j in range(len(model.genes[:450])):\n",
    "        if i < j:\n",
    "            task = [i, j, reaction_of_interest, biomass_reaction_label, model]\n",
    "            tasks.append(task)\n",
    "printt('working with {} gene pairs'.format(len(tasks)))"
   ]
  },
  {
   "cell_type": "code",
   "execution_count": 34,
   "id": "1e25cecb",
   "metadata": {
    "scrolled": true
   },
   "outputs": [
    {
     "name": "stdout",
     "output_type": "stream",
     "text": [
      "2022-03-29 19:29:39 \t entering a parallel world of 20 threads\n"
     ]
    },
    {
     "name": "stderr",
     "output_type": "stream",
     "text": [
      "/home/adrian/anaconda3/lib/python3.8/site-packages/cobra/util/solver.py:554: UserWarning: Solver status is 'infeasible'.\n",
      "  warn(f\"Solver status is '{status}'.\", UserWarning)\n",
      "/home/adrian/anaconda3/lib/python3.8/site-packages/cobra/util/solver.py:554: UserWarning: Solver status is 'infeasible'.\n",
      "  warn(f\"Solver status is '{status}'.\", UserWarning)\n",
      "/home/adrian/anaconda3/lib/python3.8/site-packages/cobra/util/solver.py:554: UserWarning: Solver status is 'infeasible'.\n",
      "  warn(f\"Solver status is '{status}'.\", UserWarning)\n",
      "/home/adrian/anaconda3/lib/python3.8/site-packages/cobra/util/solver.py:554: UserWarning: Solver status is 'infeasible'.\n",
      "  warn(f\"Solver status is '{status}'.\", UserWarning)\n",
      "/home/adrian/anaconda3/lib/python3.8/site-packages/cobra/util/solver.py:554: UserWarning: Solver status is 'infeasible'.\n",
      "  warn(f\"Solver status is '{status}'.\", UserWarning)\n",
      "/home/adrian/anaconda3/lib/python3.8/site-packages/cobra/util/solver.py:554: UserWarning: Solver status is 'infeasible'.\n",
      "  warn(f\"Solver status is '{status}'.\", UserWarning)\n",
      "/home/adrian/anaconda3/lib/python3.8/site-packages/cobra/util/solver.py:554: UserWarning: Solver status is 'infeasible'.\n",
      "  warn(f\"Solver status is '{status}'.\", UserWarning)\n",
      "/home/adrian/anaconda3/lib/python3.8/site-packages/cobra/util/solver.py:554: UserWarning: Solver status is 'infeasible'.\n",
      "  warn(f\"Solver status is '{status}'.\", UserWarning)\n",
      "/home/adrian/anaconda3/lib/python3.8/site-packages/cobra/util/solver.py:554: UserWarning: Solver status is 'infeasible'.\n",
      "  warn(f\"Solver status is '{status}'.\", UserWarning)\n",
      "/home/adrian/anaconda3/lib/python3.8/site-packages/cobra/util/solver.py:554: UserWarning: Solver status is 'infeasible'.\n",
      "  warn(f\"Solver status is '{status}'.\", UserWarning)\n",
      "/home/adrian/anaconda3/lib/python3.8/site-packages/cobra/util/solver.py:554: UserWarning: Solver status is 'infeasible'.\n",
      "  warn(f\"Solver status is '{status}'.\", UserWarning)\n",
      "/home/adrian/anaconda3/lib/python3.8/site-packages/cobra/util/solver.py:554: UserWarning: Solver status is 'infeasible'.\n",
      "  warn(f\"Solver status is '{status}'.\", UserWarning)\n",
      "/home/adrian/anaconda3/lib/python3.8/site-packages/cobra/util/solver.py:554: UserWarning: Solver status is 'infeasible'.\n",
      "  warn(f\"Solver status is '{status}'.\", UserWarning)\n",
      "/home/adrian/anaconda3/lib/python3.8/site-packages/cobra/util/solver.py:554: UserWarning: Solver status is 'infeasible'.\n",
      "  warn(f\"Solver status is '{status}'.\", UserWarning)\n",
      "/home/adrian/anaconda3/lib/python3.8/site-packages/cobra/util/solver.py:554: UserWarning: Solver status is 'infeasible'.\n",
      "  warn(f\"Solver status is '{status}'.\", UserWarning)\n",
      "/home/adrian/anaconda3/lib/python3.8/site-packages/cobra/util/solver.py:554: UserWarning: Solver status is 'infeasible'.\n",
      "  warn(f\"Solver status is '{status}'.\", UserWarning)\n",
      "/home/adrian/anaconda3/lib/python3.8/site-packages/cobra/util/solver.py:554: UserWarning: Solver status is 'infeasible'.\n",
      "  warn(f\"Solver status is '{status}'.\", UserWarning)\n",
      "/home/adrian/anaconda3/lib/python3.8/site-packages/cobra/util/solver.py:554: UserWarning: Solver status is 'infeasible'.\n",
      "  warn(f\"Solver status is '{status}'.\", UserWarning)\n",
      "/home/adrian/anaconda3/lib/python3.8/site-packages/cobra/util/solver.py:554: UserWarning: Solver status is 'infeasible'.\n",
      "  warn(f\"Solver status is '{status}'.\", UserWarning)\n",
      "/home/adrian/anaconda3/lib/python3.8/site-packages/cobra/util/solver.py:554: UserWarning: Solver status is 'infeasible'.\n",
      "  warn(f\"Solver status is '{status}'.\", UserWarning)\n",
      "/home/adrian/anaconda3/lib/python3.8/site-packages/cobra/util/solver.py:554: UserWarning: Solver status is 'infeasible'.\n",
      "  warn(f\"Solver status is '{status}'.\", UserWarning)\n",
      "/home/adrian/anaconda3/lib/python3.8/site-packages/cobra/util/solver.py:554: UserWarning: Solver status is 'infeasible'.\n",
      "  warn(f\"Solver status is '{status}'.\", UserWarning)\n",
      "/home/adrian/anaconda3/lib/python3.8/site-packages/cobra/util/solver.py:554: UserWarning: Solver status is 'infeasible'.\n",
      "  warn(f\"Solver status is '{status}'.\", UserWarning)\n",
      "/home/adrian/anaconda3/lib/python3.8/site-packages/cobra/util/solver.py:554: UserWarning: Solver status is 'infeasible'.\n",
      "  warn(f\"Solver status is '{status}'.\", UserWarning)\n",
      "/home/adrian/anaconda3/lib/python3.8/site-packages/cobra/util/solver.py:554: UserWarning: Solver status is 'infeasible'.\n",
      "  warn(f\"Solver status is '{status}'.\", UserWarning)\n",
      "/home/adrian/anaconda3/lib/python3.8/site-packages/cobra/util/solver.py:554: UserWarning: Solver status is 'infeasible'.\n",
      "  warn(f\"Solver status is '{status}'.\", UserWarning)\n",
      "/home/adrian/anaconda3/lib/python3.8/site-packages/cobra/util/solver.py:554: UserWarning: Solver status is 'infeasible'.\n",
      "  warn(f\"Solver status is '{status}'.\", UserWarning)\n",
      "/home/adrian/anaconda3/lib/python3.8/site-packages/cobra/util/solver.py:554: UserWarning: Solver status is 'infeasible'.\n",
      "  warn(f\"Solver status is '{status}'.\", UserWarning)\n",
      "/home/adrian/anaconda3/lib/python3.8/site-packages/cobra/util/solver.py:554: UserWarning: Solver status is 'infeasible'.\n",
      "  warn(f\"Solver status is '{status}'.\", UserWarning)\n",
      "/home/adrian/anaconda3/lib/python3.8/site-packages/cobra/util/solver.py:554: UserWarning: Solver status is 'infeasible'.\n",
      "  warn(f\"Solver status is '{status}'.\", UserWarning)\n",
      "/home/adrian/anaconda3/lib/python3.8/site-packages/cobra/util/solver.py:554: UserWarning: Solver status is 'infeasible'.\n",
      "  warn(f\"Solver status is '{status}'.\", UserWarning)\n",
      "/home/adrian/anaconda3/lib/python3.8/site-packages/cobra/util/solver.py:554: UserWarning: Solver status is 'infeasible'.\n",
      "  warn(f\"Solver status is '{status}'.\", UserWarning)\n",
      "/home/adrian/anaconda3/lib/python3.8/site-packages/cobra/util/solver.py:554: UserWarning: Solver status is 'infeasible'.\n",
      "  warn(f\"Solver status is '{status}'.\", UserWarning)\n",
      "/home/adrian/anaconda3/lib/python3.8/site-packages/cobra/util/solver.py:554: UserWarning: Solver status is 'infeasible'.\n",
      "  warn(f\"Solver status is '{status}'.\", UserWarning)\n",
      "/home/adrian/anaconda3/lib/python3.8/site-packages/cobra/util/solver.py:554: UserWarning: Solver status is 'infeasible'.\n",
      "  warn(f\"Solver status is '{status}'.\", UserWarning)\n",
      "/home/adrian/anaconda3/lib/python3.8/site-packages/cobra/util/solver.py:554: UserWarning: Solver status is 'infeasible'.\n",
      "  warn(f\"Solver status is '{status}'.\", UserWarning)\n",
      "/home/adrian/anaconda3/lib/python3.8/site-packages/cobra/util/solver.py:554: UserWarning: Solver status is 'infeasible'.\n",
      "  warn(f\"Solver status is '{status}'.\", UserWarning)\n",
      "/home/adrian/anaconda3/lib/python3.8/site-packages/cobra/util/solver.py:554: UserWarning: Solver status is 'infeasible'.\n",
      "  warn(f\"Solver status is '{status}'.\", UserWarning)\n",
      "/home/adrian/anaconda3/lib/python3.8/site-packages/cobra/util/solver.py:554: UserWarning: Solver status is 'infeasible'.\n",
      "  warn(f\"Solver status is '{status}'.\", UserWarning)\n",
      "/home/adrian/anaconda3/lib/python3.8/site-packages/cobra/util/solver.py:554: UserWarning: Solver status is 'infeasible'.\n",
      "  warn(f\"Solver status is '{status}'.\", UserWarning)\n"
     ]
    },
    {
     "name": "stdout",
     "output_type": "stream",
     "text": [
      "2022-03-29 20:05:07 \t completed 101025 tasks\n",
      "CPU times: user 9.76 s, sys: 472 ms, total: 10.2 s\n",
      "Wall time: 35min 28s\n"
     ]
    }
   ],
   "source": [
    "%%time\n",
    "printt('entering a parallel world of {} threads'.format(number_of_threads))\n",
    "hydra = multiprocessing.pool.Pool(number_of_threads)\n",
    "hydra_output = hydra.map(growth_coupled_analysis, tasks)\n",
    "hydra.close()\n",
    "printt('completed {} tasks'.format(len(hydra_output)))"
   ]
  },
  {
   "cell_type": "code",
   "execution_count": 35,
   "id": "598e0ee8",
   "metadata": {},
   "outputs": [
    {
     "data": {
      "text/html": [
       "<div>\n",
       "<style scoped>\n",
       "    .dataframe tbody tr th:only-of-type {\n",
       "        vertical-align: middle;\n",
       "    }\n",
       "\n",
       "    .dataframe tbody tr th {\n",
       "        vertical-align: top;\n",
       "    }\n",
       "\n",
       "    .dataframe thead th {\n",
       "        text-align: right;\n",
       "    }\n",
       "</style>\n",
       "<table border=\"1\" class=\"dataframe\">\n",
       "  <thead>\n",
       "    <tr style=\"text-align: right;\">\n",
       "      <th></th>\n",
       "      <th>i</th>\n",
       "      <th>j</th>\n",
       "      <th>KO growth</th>\n",
       "      <th>min production</th>\n",
       "      <th>max production</th>\n",
       "    </tr>\n",
       "  </thead>\n",
       "  <tbody>\n",
       "    <tr>\n",
       "      <th>366</th>\n",
       "      <td>0</td>\n",
       "      <td>367</td>\n",
       "      <td>0.011881</td>\n",
       "      <td>1.817702</td>\n",
       "      <td>1.817702e+00</td>\n",
       "    </tr>\n",
       "    <tr>\n",
       "      <th>3039</th>\n",
       "      <td>6</td>\n",
       "      <td>367</td>\n",
       "      <td>0.011881</td>\n",
       "      <td>1.817699</td>\n",
       "      <td>1.817700e+00</td>\n",
       "    </tr>\n",
       "    <tr>\n",
       "      <th>11266</th>\n",
       "      <td>25</td>\n",
       "      <td>367</td>\n",
       "      <td>0.011885</td>\n",
       "      <td>1.816947</td>\n",
       "      <td>1.816947e+00</td>\n",
       "    </tr>\n",
       "    <tr>\n",
       "      <th>78787</th>\n",
       "      <td>238</td>\n",
       "      <td>367</td>\n",
       "      <td>0.011885</td>\n",
       "      <td>1.816947</td>\n",
       "      <td>1.816947e+00</td>\n",
       "    </tr>\n",
       "    <tr>\n",
       "      <th>96937</th>\n",
       "      <td>359</td>\n",
       "      <td>367</td>\n",
       "      <td>0.011885</td>\n",
       "      <td>1.816947</td>\n",
       "      <td>1.816947e+00</td>\n",
       "    </tr>\n",
       "    <tr>\n",
       "      <th>...</th>\n",
       "      <td>...</td>\n",
       "      <td>...</td>\n",
       "      <td>...</td>\n",
       "      <td>...</td>\n",
       "      <td>...</td>\n",
       "    </tr>\n",
       "    <tr>\n",
       "      <th>35002</th>\n",
       "      <td>86</td>\n",
       "      <td>130</td>\n",
       "      <td>0.083679</td>\n",
       "      <td>0.000000</td>\n",
       "      <td>-3.410605e-13</td>\n",
       "    </tr>\n",
       "    <tr>\n",
       "      <th>35001</th>\n",
       "      <td>86</td>\n",
       "      <td>129</td>\n",
       "      <td>0.000000</td>\n",
       "      <td>0.000000</td>\n",
       "      <td>2.000000e+00</td>\n",
       "    </tr>\n",
       "    <tr>\n",
       "      <th>35000</th>\n",
       "      <td>86</td>\n",
       "      <td>128</td>\n",
       "      <td>0.083748</td>\n",
       "      <td>0.000000</td>\n",
       "      <td>4.206413e-12</td>\n",
       "    </tr>\n",
       "    <tr>\n",
       "      <th>34999</th>\n",
       "      <td>86</td>\n",
       "      <td>127</td>\n",
       "      <td>0.000000</td>\n",
       "      <td>0.000000</td>\n",
       "      <td>2.000000e+00</td>\n",
       "    </tr>\n",
       "    <tr>\n",
       "      <th>101024</th>\n",
       "      <td>448</td>\n",
       "      <td>449</td>\n",
       "      <td>0.083748</td>\n",
       "      <td>0.000000</td>\n",
       "      <td>4.547474e-13</td>\n",
       "    </tr>\n",
       "  </tbody>\n",
       "</table>\n",
       "<p>101025 rows × 5 columns</p>\n",
       "</div>"
      ],
      "text/plain": [
       "          i    j  KO growth  min production  max production\n",
       "366       0  367   0.011881        1.817702    1.817702e+00\n",
       "3039      6  367   0.011881        1.817699    1.817700e+00\n",
       "11266    25  367   0.011885        1.816947    1.816947e+00\n",
       "78787   238  367   0.011885        1.816947    1.816947e+00\n",
       "96937   359  367   0.011885        1.816947    1.816947e+00\n",
       "...     ...  ...        ...             ...             ...\n",
       "35002    86  130   0.083679        0.000000   -3.410605e-13\n",
       "35001    86  129   0.000000        0.000000    2.000000e+00\n",
       "35000    86  128   0.083748        0.000000    4.206413e-12\n",
       "34999    86  127   0.000000        0.000000    2.000000e+00\n",
       "101024  448  449   0.083748        0.000000    4.547474e-13\n",
       "\n",
       "[101025 rows x 5 columns]"
      ]
     },
     "execution_count": 35,
     "metadata": {},
     "output_type": "execute_result"
    }
   ],
   "source": [
    "df = pandas.DataFrame(hydra_output, columns=['i', 'j', 'KO growth', 'min production', 'max production'])\n",
    "df.sort_values(by=['min production'], ascending=False)"
   ]
  },
  {
   "cell_type": "markdown",
   "id": "c7ad2376",
   "metadata": {},
   "source": [
    "# 3. store dataframe"
   ]
  },
  {
   "cell_type": "code",
   "execution_count": 37,
   "id": "f2191eae",
   "metadata": {},
   "outputs": [
    {
     "name": "stdout",
     "output_type": "stream",
     "text": [
      "2022-03-29 20:06:17 \t store double KO information as a dataframe\n"
     ]
    }
   ],
   "source": [
    "printt('store double KO information as a dataframe')\n",
    "\n",
    "f = open('doubleKO.pickle','wb')\n",
    "pickle.dump(df, f)\n",
    "f.close()"
   ]
  },
  {
   "cell_type": "code",
   "execution_count": null,
   "id": "15b93f9e",
   "metadata": {},
   "outputs": [],
   "source": []
  }
 ],
 "metadata": {
  "kernelspec": {
   "display_name": "Python 3",
   "language": "python",
   "name": "python3"
  },
  "language_info": {
   "codemirror_mode": {
    "name": "ipython",
    "version": 3
   },
   "file_extension": ".py",
   "mimetype": "text/x-python",
   "name": "python",
   "nbconvert_exporter": "python",
   "pygments_lexer": "ipython3",
   "version": "3.8.13"
  }
 },
 "nbformat": 4,
 "nbformat_minor": 5
}
