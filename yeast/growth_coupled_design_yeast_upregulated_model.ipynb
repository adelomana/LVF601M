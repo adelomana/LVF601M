{
 "cells": [
  {
   "cell_type": "markdown",
   "metadata": {
    "id": "arl2Csl66JPn"
   },
   "source": [
    "# 1. Import stuff"
   ]
  },
  {
   "cell_type": "code",
   "execution_count": 1,
   "metadata": {
    "id": "3-iTbL5q3Sf3"
   },
   "outputs": [],
   "source": [
    "import numpy, datetime, os, pickle, itertools, importlib, dotenv, pandas, json"
   ]
  },
  {
   "cell_type": "code",
   "execution_count": 2,
   "metadata": {
    "id": "ErAw455W3aMr"
   },
   "outputs": [],
   "source": [
    "import multiprocessing, multiprocessing.pool\n",
    "from multiprocessing import Process, Queue"
   ]
  },
  {
   "cell_type": "code",
   "execution_count": 3,
   "metadata": {
    "id": "jLpdkDJR3bge"
   },
   "outputs": [],
   "source": [
    "import matplotlib, matplotlib.pyplot\n",
    "matplotlib.rcParams.update({'font.size':20, 'font.family':'FreeSans', 'xtick.labelsize':30, 'ytick.labelsize':30, 'axes.labelsize':40, 'figure.figsize':(12, 8)})"
   ]
  },
  {
   "cell_type": "code",
   "execution_count": 4,
   "metadata": {
    "id": "gYImL3WL3dXs"
   },
   "outputs": [],
   "source": [
    "def growth_coupled_analysis(task):\n",
    "    \n",
    "    \"\"\"\n",
    "    This function performs the growth-coupled production.\n",
    "    It takes as input a list as [first_gene_pair_index, second_gene_pair_index, reaction_of_interest, biomass_reaction_label, model]\n",
    "    It gives as output a list as [first_gene_pair_index, second_gene_pair_index, growth, min_production, max_production]\n",
    "    \"\"\"\n",
    "    \n",
    "    i = task[0]\n",
    "    j = task[1]\n",
    "    reaction_of_interest = task[2]\n",
    "    biomass_reaction_label = task[3]\n",
    "    model = task[4]\n",
    "    \n",
    "    with model as model:\n",
    "                \n",
    "        # KO\n",
    "        model.genes[i].knock_out()\n",
    "        model.genes[j].knock_out()\n",
    "        solution = model.optimize()\n",
    "        if solution.status == 'optimal':\n",
    "            ko_growth = solution.objective_value\n",
    "\n",
    "            # growth-coupled production\n",
    "            model.objective = reaction_of_interest\n",
    "            model.reactions.get_by_id(biomass_reaction_label).lower_bound = ko_growth\n",
    "            max_production = model.optimize(objective_sense='maximize').objective_value\n",
    "            min_production = model.optimize(objective_sense='minimize').objective_value\n",
    "            \n",
    "            result = [i, j, ko_growth, min_production, max_production]\n",
    "        else:\n",
    "            result = [i, j, 0, 0, 0]\n",
    "\n",
    "    return result"
   ]
  },
  {
   "cell_type": "code",
   "execution_count": 5,
   "metadata": {
    "id": "4WNrX-pv3fSG"
   },
   "outputs": [],
   "source": [
    "def printt(message):\n",
    "\n",
    "    print(datetime.datetime.now().strftime(\"%Y-%m-%d %H:%M:%S \\t {}\".format(message)))   #here date & time, to see the runtime? \n",
    "\n",
    "    return None"
   ]
  },
  {
   "cell_type": "markdown",
   "metadata": {
    "id": "iLNbdQJO6RWI"
   },
   "source": [
    "# 1. Load model"
   ]
  },
  {
   "cell_type": "code",
   "execution_count": 6,
   "metadata": {
    "id": "8u8gp8rI3gpV"
   },
   "outputs": [],
   "source": [
    "io_path = '/home/adrian/hub/LVF601M/yeast/yeast-GEM/code/io.py'"
   ]
  },
  {
   "cell_type": "code",
   "execution_count": 7,
   "metadata": {
    "id": "545YMfi93iTD"
   },
   "outputs": [],
   "source": [
    "os.chdir('yeast-GEM')\n",
    "#! touch .env\n",
    "\n",
    "# find .env + define paths:\n",
    "dotenv_path = dotenv.find_dotenv()\n",
    "REPO_PATH = os.path.dirname(dotenv_path)\n",
    "MODEL_PATH = f\"{REPO_PATH}/model/yeast-GEM.xml\""
   ]
  },
  {
   "cell_type": "code",
   "execution_count": 8,
   "metadata": {
    "id": "Ab_ai_PM3lqr"
   },
   "outputs": [
    {
     "name": "stdout",
     "output_type": "stream",
     "text": [
      "Restricted license - for non-production use only - expires 2023-10-25\n"
     ]
    }
   ],
   "source": [
    "spec = importlib.util.spec_from_file_location(\"i_dont_know_what_is_this\", io_path)\n",
    "foo = importlib.util.module_from_spec(spec)\n",
    "spec.loader.exec_module(foo)\n",
    "model = foo.read_yeast_model()"
   ]
  },
  {
   "cell_type": "code",
   "execution_count": 9,
   "metadata": {
    "colab": {
     "base_uri": "https://localhost:8080/"
    },
    "id": "U1Li-KEf3njX",
    "outputId": "fb805191-cf96-49a5-cee7-8cdd748230b5"
   },
   "outputs": [
    {
     "data": {
      "text/plain": [
       "<optlang.cplex_interface.Model at 0x7f925b18b370>"
      ]
     },
     "execution_count": 9,
     "metadata": {},
     "output_type": "execute_result"
    }
   ],
   "source": [
    "working_solver = \"cplex\" # much faster version of glpk\n",
    "model.solver = working_solver\n",
    "model.solver"
   ]
  },
  {
   "cell_type": "markdown",
   "metadata": {},
   "source": [
    "# 2. explore the model"
   ]
  },
  {
   "cell_type": "code",
   "execution_count": 10,
   "metadata": {},
   "outputs": [
    {
     "data": {
      "text/html": [
       "<h3>Objective</h3><p>1.0 r_2111 = 0.08374770604149201</p><h4>Uptake</h4><table border=\"1\" class=\"dataframe\">\n",
       "  <thead>\n",
       "    <tr style=\"text-align: right;\">\n",
       "      <th>Metabolite</th>\n",
       "      <th>Reaction</th>\n",
       "      <th>Flux</th>\n",
       "      <th>C-Number</th>\n",
       "      <th>C-Flux</th>\n",
       "    </tr>\n",
       "  </thead>\n",
       "  <tbody>\n",
       "    <tr>\n",
       "      <td>s_0420[e]</td>\n",
       "      <td>r_1654</td>\n",
       "      <td>0.5988</td>\n",
       "      <td>0</td>\n",
       "      <td>0.00%</td>\n",
       "    </tr>\n",
       "    <tr>\n",
       "      <td>s_0565[e]</td>\n",
       "      <td>r_1714</td>\n",
       "      <td>1</td>\n",
       "      <td>6</td>\n",
       "      <td>100.00%</td>\n",
       "    </tr>\n",
       "    <tr>\n",
       "      <td>s_0796[e]</td>\n",
       "      <td>r_1832</td>\n",
       "      <td>0.04236</td>\n",
       "      <td>0</td>\n",
       "      <td>0.00%</td>\n",
       "    </tr>\n",
       "    <tr>\n",
       "      <td>s_0925[e]</td>\n",
       "      <td>r_1861</td>\n",
       "      <td>2.63E-06</td>\n",
       "      <td>0</td>\n",
       "      <td>0.00%</td>\n",
       "    </tr>\n",
       "    <tr>\n",
       "      <td>s_1277[e]</td>\n",
       "      <td>r_1992</td>\n",
       "      <td>2.25</td>\n",
       "      <td>0</td>\n",
       "      <td>0.00%</td>\n",
       "    </tr>\n",
       "    <tr>\n",
       "      <td>s_1324[e]</td>\n",
       "      <td>r_2005</td>\n",
       "      <td>0.545</td>\n",
       "      <td>0</td>\n",
       "      <td>0.00%</td>\n",
       "    </tr>\n",
       "    <tr>\n",
       "      <td>s_1374[e]</td>\n",
       "      <td>r_2020</td>\n",
       "      <td>0.000304</td>\n",
       "      <td>0</td>\n",
       "      <td>0.00%</td>\n",
       "    </tr>\n",
       "    <tr>\n",
       "      <td>s_1438[e]</td>\n",
       "      <td>r_2049</td>\n",
       "      <td>0.0003325</td>\n",
       "      <td>0</td>\n",
       "      <td>0.00%</td>\n",
       "    </tr>\n",
       "    <tr>\n",
       "      <td>s_1468[e]</td>\n",
       "      <td>r_2060</td>\n",
       "      <td>0.007203</td>\n",
       "      <td>0</td>\n",
       "      <td>0.00%</td>\n",
       "    </tr>\n",
       "    <tr>\n",
       "      <td>s_4200[e]</td>\n",
       "      <td>r_4593</td>\n",
       "      <td>0.000108</td>\n",
       "      <td>0</td>\n",
       "      <td>0.00%</td>\n",
       "    </tr>\n",
       "    <tr>\n",
       "      <td>s_4201[e]</td>\n",
       "      <td>r_4594</td>\n",
       "      <td>5.519E-05</td>\n",
       "      <td>0</td>\n",
       "      <td>0.00%</td>\n",
       "    </tr>\n",
       "    <tr>\n",
       "      <td>s_4202[e]</td>\n",
       "      <td>r_4595</td>\n",
       "      <td>0.0002286</td>\n",
       "      <td>0</td>\n",
       "      <td>0.00%</td>\n",
       "    </tr>\n",
       "    <tr>\n",
       "      <td>s_4203[e]</td>\n",
       "      <td>r_4596</td>\n",
       "      <td>6.264E-05</td>\n",
       "      <td>0</td>\n",
       "      <td>0.00%</td>\n",
       "    </tr>\n",
       "    <tr>\n",
       "      <td>s_4204[e]</td>\n",
       "      <td>r_4597</td>\n",
       "      <td>0.0001041</td>\n",
       "      <td>0</td>\n",
       "      <td>0.00%</td>\n",
       "    </tr>\n",
       "    <tr>\n",
       "      <td>s_4199[e]</td>\n",
       "      <td>r_4600</td>\n",
       "      <td>1.817E-05</td>\n",
       "      <td>0</td>\n",
       "      <td>0.00%</td>\n",
       "    </tr>\n",
       "  </tbody>\n",
       "</table><h4>Secretion</h4><table border=\"1\" class=\"dataframe\">\n",
       "  <thead>\n",
       "    <tr style=\"text-align: right;\">\n",
       "      <th>Metabolite</th>\n",
       "      <th>Reaction</th>\n",
       "      <th>Flux</th>\n",
       "      <th>C-Number</th>\n",
       "      <th>C-Flux</th>\n",
       "    </tr>\n",
       "  </thead>\n",
       "  <tbody>\n",
       "    <tr>\n",
       "      <td>s_0458[e]</td>\n",
       "      <td>r_1672</td>\n",
       "      <td>-2.39</td>\n",
       "      <td>1</td>\n",
       "      <td>100.00%</td>\n",
       "    </tr>\n",
       "    <tr>\n",
       "      <td>s_0776[e]</td>\n",
       "      <td>r_1814</td>\n",
       "      <td>-5.41E-06</td>\n",
       "      <td>2</td>\n",
       "      <td>0.00%</td>\n",
       "    </tr>\n",
       "    <tr>\n",
       "      <td>s_0805[e]</td>\n",
       "      <td>r_2100</td>\n",
       "      <td>-4.302</td>\n",
       "      <td>0</td>\n",
       "      <td>0.00%</td>\n",
       "    </tr>\n",
       "    <tr>\n",
       "      <td>s_0450[c]</td>\n",
       "      <td>r_2111</td>\n",
       "      <td>-0.08375</td>\n",
       "      <td>0</td>\n",
       "      <td>0.00%</td>\n",
       "    </tr>\n",
       "    <tr>\n",
       "      <td>s_4157[e]</td>\n",
       "      <td>r_4527</td>\n",
       "      <td>-0.2515</td>\n",
       "      <td>0</td>\n",
       "      <td>0.00%</td>\n",
       "    </tr>\n",
       "  </tbody>\n",
       "</table>"
      ],
      "text/plain": [
       "<cobra.summary.model_summary.ModelSummary at 0x7f925576df10>"
      ]
     },
     "execution_count": 10,
     "metadata": {},
     "output_type": "execute_result"
    }
   ],
   "source": [
    "model.summary()"
   ]
  },
  {
   "cell_type": "code",
   "execution_count": 11,
   "metadata": {},
   "outputs": [
    {
     "name": "stdout",
     "output_type": "stream",
     "text": [
      "0.08374770604149129\n"
     ]
    }
   ],
   "source": [
    "wt_solution = model.optimize()\n",
    "print(wt_solution.objective_value)"
   ]
  },
  {
   "cell_type": "code",
   "execution_count": 12,
   "metadata": {},
   "outputs": [
    {
     "name": "stdout",
     "output_type": "stream",
     "text": [
      "1150\n"
     ]
    }
   ],
   "source": [
    "number_of_genes = len(model.genes)\n",
    "print(number_of_genes)"
   ]
  },
  {
   "cell_type": "markdown",
   "metadata": {},
   "source": [
    "# 3. adjust the model"
   ]
  },
  {
   "cell_type": "markdown",
   "metadata": {
    "id": "ayZ3TJvr6WJU"
   },
   "source": [
    "## 3.1. Helper functions"
   ]
  },
  {
   "cell_type": "code",
   "execution_count": 13,
   "metadata": {
    "id": "Wisrceu_4QPE"
   },
   "outputs": [],
   "source": [
    "import math\n",
    "def find_probe_list(probe,control_list,condition_list):\n",
    "  up_probe = []\n",
    "  for i in range(len(control_list)-1):\n",
    "    FC = condition_list[i]/control_list[i]\n",
    "    log_FC = math.log(FC,2)\n",
    "    if(log_FC >= 1):\n",
    "      up_probe.append(probe[i])\n",
    "  return up_probe"
   ]
  },
  {
   "cell_type": "code",
   "execution_count": 14,
   "metadata": {
    "id": "2yfqpVn24THF"
   },
   "outputs": [],
   "source": [
    "def find_gene_ids(up_probe,probe_map,gene_map):\n",
    "  gene_id_up = []\n",
    "  for i in range(len(up_probe)-1):\n",
    "    for j in range(len(probe_map)-1):\n",
    "      if(up_probe[i] == probe_map[j]):\n",
    "        gene_id_up.append(gene_map[j])\n",
    "  return gene_id_up"
   ]
  },
  {
   "cell_type": "code",
   "execution_count": 15,
   "metadata": {
    "id": "WusHTEGC4haD"
   },
   "outputs": [],
   "source": [
    "def adjust_model(model,gene_id_up):\n",
    "  reaction_ko = []\n",
    "  model_adjust = model.copy()\n",
    "  for gene in gene_id_up:\n",
    "    new_gene = fix_gene_id(gene)\n",
    "    if new_gene in model.genes:\n",
    "      model_adjust.genes.get_by_id(new_gene).knock_out()\n",
    "  return model_adjust"
   ]
  },
  {
   "cell_type": "code",
   "execution_count": 16,
   "metadata": {
    "id": "tJCeJq6i4o-y"
   },
   "outputs": [],
   "source": [
    "def fix_gene_id(gene):\n",
    "  gene_new_char = []\n",
    "  for char in gene:\n",
    "    if char != \".\":\n",
    "      gene_new_char.append(char)\n",
    "    else:\n",
    "      break\n",
    "  str = \"\"\n",
    "  for ele in gene_new_char:\n",
    "    str += ele\n",
    "  return str"
   ]
  },
  {
   "cell_type": "code",
   "execution_count": 17,
   "metadata": {
    "id": "0VBRXqQ64uCx"
   },
   "outputs": [],
   "source": [
    "def count_ko_reactions(model_adj):\n",
    "  rxn_list = []\n",
    "  for rxn in model_adj.reactions:\n",
    "    if rxn.bounds == (0,0):\n",
    "      rxn_list.append(rxn)\n",
    "  return rxn_list"
   ]
  },
  {
   "cell_type": "markdown",
   "metadata": {
    "id": "Wub8sLNY6aFl"
   },
   "source": [
    "## 3.2. Load data to adjust model"
   ]
  },
  {
   "cell_type": "code",
   "execution_count": 18,
   "metadata": {
    "id": "dkNdg4hP4421"
   },
   "outputs": [
    {
     "name": "stdout",
     "output_type": "stream",
     "text": [
      "--2022-04-22 17:19:21--  https://ftp.ncbi.nlm.nih.gov/geo/series/GSE20nnn/GSE20108/matrix/GSE20108_series_matrix.txt.gz\n",
      "Resolving ftp.ncbi.nlm.nih.gov (ftp.ncbi.nlm.nih.gov)... 130.14.250.10, 130.14.250.7, 2607:f220:41e:250::12, ...\n",
      "Connecting to ftp.ncbi.nlm.nih.gov (ftp.ncbi.nlm.nih.gov)|130.14.250.10|:443... connected.\n",
      "HTTP request sent, awaiting response... 200 OK\n",
      "Length: 798370 (780K) [application/x-gzip]\n",
      "Saving to: ‘GSE20108_series_matrix.txt.gz.5’\n",
      "\n",
      "GSE20108_series_mat 100%[===================>] 779.66K   952KB/s    in 0.8s    \n",
      "\n",
      "2022-04-22 17:19:23 (952 KB/s) - ‘GSE20108_series_matrix.txt.gz.5’ saved [798370/798370]\n",
      "\n"
     ]
    },
    {
     "data": {
      "text/html": [
       "<div>\n",
       "<style scoped>\n",
       "    .dataframe tbody tr th:only-of-type {\n",
       "        vertical-align: middle;\n",
       "    }\n",
       "\n",
       "    .dataframe tbody tr th {\n",
       "        vertical-align: top;\n",
       "    }\n",
       "\n",
       "    .dataframe thead th {\n",
       "        text-align: right;\n",
       "    }\n",
       "</style>\n",
       "<table border=\"1\" class=\"dataframe\">\n",
       "  <thead>\n",
       "    <tr style=\"text-align: right;\">\n",
       "      <th></th>\n",
       "      <th>ID_REF</th>\n",
       "      <th>GSM502520</th>\n",
       "      <th>GSM502521</th>\n",
       "      <th>GSM502522</th>\n",
       "      <th>GSM502523</th>\n",
       "      <th>GSM502524</th>\n",
       "      <th>GSM502525</th>\n",
       "      <th>GSM502526</th>\n",
       "      <th>GSM502527</th>\n",
       "      <th>GSM502528</th>\n",
       "      <th>GSM502529</th>\n",
       "      <th>GSM502530</th>\n",
       "      <th>GSM502531</th>\n",
       "      <th>GSM502532</th>\n",
       "      <th>GSM502533</th>\n",
       "      <th>GSM502534</th>\n",
       "      <th>GSM502535</th>\n",
       "      <th>GSM502536</th>\n",
       "      <th>GSM502537</th>\n",
       "    </tr>\n",
       "  </thead>\n",
       "  <tbody>\n",
       "    <tr>\n",
       "      <th>0</th>\n",
       "      <td>1769308_at</td>\n",
       "      <td>66.02190</td>\n",
       "      <td>64.50880</td>\n",
       "      <td>64.07770</td>\n",
       "      <td>50.811200</td>\n",
       "      <td>33.27310</td>\n",
       "      <td>27.10110</td>\n",
       "      <td>82.14330</td>\n",
       "      <td>155.595000</td>\n",
       "      <td>74.03960</td>\n",
       "      <td>89.45960</td>\n",
       "      <td>100.33300</td>\n",
       "      <td>112.94300</td>\n",
       "      <td>67.26400</td>\n",
       "      <td>88.65670</td>\n",
       "      <td>84.84220</td>\n",
       "      <td>80.00210</td>\n",
       "      <td>39.41340</td>\n",
       "      <td>49.64110</td>\n",
       "    </tr>\n",
       "    <tr>\n",
       "      <th>1</th>\n",
       "      <td>1769309_at</td>\n",
       "      <td>7.47442</td>\n",
       "      <td>4.57040</td>\n",
       "      <td>1.90656</td>\n",
       "      <td>0.701782</td>\n",
       "      <td>4.08954</td>\n",
       "      <td>1.27988</td>\n",
       "      <td>1.97934</td>\n",
       "      <td>2.832220</td>\n",
       "      <td>5.85934</td>\n",
       "      <td>5.06648</td>\n",
       "      <td>2.61963</td>\n",
       "      <td>2.28516</td>\n",
       "      <td>4.07976</td>\n",
       "      <td>2.34420</td>\n",
       "      <td>3.28361</td>\n",
       "      <td>6.44708</td>\n",
       "      <td>1.86492</td>\n",
       "      <td>0.74411</td>\n",
       "    </tr>\n",
       "    <tr>\n",
       "      <th>2</th>\n",
       "      <td>1769310_at</td>\n",
       "      <td>3.95121</td>\n",
       "      <td>3.85858</td>\n",
       "      <td>3.26991</td>\n",
       "      <td>1.961260</td>\n",
       "      <td>4.74444</td>\n",
       "      <td>3.79033</td>\n",
       "      <td>1.34910</td>\n",
       "      <td>0.915949</td>\n",
       "      <td>3.20209</td>\n",
       "      <td>4.69500</td>\n",
       "      <td>1.21438</td>\n",
       "      <td>3.21346</td>\n",
       "      <td>4.33432</td>\n",
       "      <td>1.22967</td>\n",
       "      <td>3.63288</td>\n",
       "      <td>1.78898</td>\n",
       "      <td>3.25453</td>\n",
       "      <td>4.20871</td>\n",
       "    </tr>\n",
       "    <tr>\n",
       "      <th>3</th>\n",
       "      <td>1769311_at</td>\n",
       "      <td>571.15100</td>\n",
       "      <td>609.04800</td>\n",
       "      <td>552.19200</td>\n",
       "      <td>544.056000</td>\n",
       "      <td>470.93600</td>\n",
       "      <td>485.51900</td>\n",
       "      <td>617.76800</td>\n",
       "      <td>881.655000</td>\n",
       "      <td>806.09300</td>\n",
       "      <td>700.81000</td>\n",
       "      <td>793.89800</td>\n",
       "      <td>802.20000</td>\n",
       "      <td>616.10600</td>\n",
       "      <td>639.42600</td>\n",
       "      <td>615.87300</td>\n",
       "      <td>577.36700</td>\n",
       "      <td>541.20000</td>\n",
       "      <td>555.36600</td>\n",
       "    </tr>\n",
       "    <tr>\n",
       "      <th>4</th>\n",
       "      <td>1769312_at</td>\n",
       "      <td>169.12700</td>\n",
       "      <td>176.10700</td>\n",
       "      <td>153.34400</td>\n",
       "      <td>152.357000</td>\n",
       "      <td>149.77000</td>\n",
       "      <td>121.77800</td>\n",
       "      <td>141.53500</td>\n",
       "      <td>159.424000</td>\n",
       "      <td>154.06000</td>\n",
       "      <td>153.67400</td>\n",
       "      <td>149.79800</td>\n",
       "      <td>147.94900</td>\n",
       "      <td>186.58300</td>\n",
       "      <td>189.34900</td>\n",
       "      <td>187.62200</td>\n",
       "      <td>137.46500</td>\n",
       "      <td>167.47200</td>\n",
       "      <td>151.40500</td>\n",
       "    </tr>\n",
       "  </tbody>\n",
       "</table>\n",
       "</div>"
      ],
      "text/plain": [
       "       ID_REF  GSM502520  GSM502521  GSM502522   GSM502523  GSM502524  \\\n",
       "0  1769308_at   66.02190   64.50880   64.07770   50.811200   33.27310   \n",
       "1  1769309_at    7.47442    4.57040    1.90656    0.701782    4.08954   \n",
       "2  1769310_at    3.95121    3.85858    3.26991    1.961260    4.74444   \n",
       "3  1769311_at  571.15100  609.04800  552.19200  544.056000  470.93600   \n",
       "4  1769312_at  169.12700  176.10700  153.34400  152.357000  149.77000   \n",
       "\n",
       "   GSM502525  GSM502526   GSM502527  GSM502528  GSM502529  GSM502530  \\\n",
       "0   27.10110   82.14330  155.595000   74.03960   89.45960  100.33300   \n",
       "1    1.27988    1.97934    2.832220    5.85934    5.06648    2.61963   \n",
       "2    3.79033    1.34910    0.915949    3.20209    4.69500    1.21438   \n",
       "3  485.51900  617.76800  881.655000  806.09300  700.81000  793.89800   \n",
       "4  121.77800  141.53500  159.424000  154.06000  153.67400  149.79800   \n",
       "\n",
       "   GSM502531  GSM502532  GSM502533  GSM502534  GSM502535  GSM502536  GSM502537  \n",
       "0  112.94300   67.26400   88.65670   84.84220   80.00210   39.41340   49.64110  \n",
       "1    2.28516    4.07976    2.34420    3.28361    6.44708    1.86492    0.74411  \n",
       "2    3.21346    4.33432    1.22967    3.63288    1.78898    3.25453    4.20871  \n",
       "3  802.20000  616.10600  639.42600  615.87300  577.36700  541.20000  555.36600  \n",
       "4  147.94900  186.58300  189.34900  187.62200  137.46500  167.47200  151.40500  "
      ]
     },
     "execution_count": 18,
     "metadata": {},
     "output_type": "execute_result"
    }
   ],
   "source": [
    "! wget https://ftp.ncbi.nlm.nih.gov/geo/series/GSE20nnn/GSE20108/matrix/GSE20108_series_matrix.txt.gz   #the expression data for \n",
    "df = pandas.read_csv(\"GSE20108_series_matrix.txt.gz\", compression=\"gzip\", sep=\"\\t\", skiprows=59)\n",
    "df.head()"
   ]
  },
  {
   "cell_type": "code",
   "execution_count": 19,
   "metadata": {
    "id": "tG_w6YwN45MN"
   },
   "outputs": [],
   "source": [
    "df_probe = df.loc[:,\"ID_REF\"]\n",
    "df_probe.head()\n",
    "df_probe_list = df_probe.to_numpy()"
   ]
  },
  {
   "cell_type": "code",
   "execution_count": 20,
   "metadata": {
    "id": "WdZkteL746xk"
   },
   "outputs": [],
   "source": [
    "df_control = []\n",
    "df_control_list_1 = df[\"GSM502532\"].to_numpy()\n",
    "df_control_list_2 = df[\"GSM502533\"].to_numpy()\n",
    "for i in range(len(df_control_list_1)-1):\n",
    "  control_i = (df_control_list_1[i]+df_control_list_2[i])/2\n",
    "  df_control.append(control_i)\n",
    "\n",
    "df_alc3 = []\n",
    "df_alc3_1 = df[\"GSM502534\"].to_numpy()\n",
    "df_alc3_2 = df[\"GSM502535\"].to_numpy()\n",
    "for i in range(len(df_alc3_1)-1):\n",
    "  alc3_i = (df_alc3_1[i]+df_alc3_2[i])/2\n",
    "  df_alc3.append(alc3_i)\n"
   ]
  },
  {
   "cell_type": "code",
   "execution_count": 21,
   "metadata": {
    "id": "k8jb9gG04-d3",
    "scrolled": true
   },
   "outputs": [
    {
     "name": "stdout",
     "output_type": "stream",
     "text": [
      "--2022-04-22 17:19:23--  https://www.ebi.ac.uk/arrayexpress/files/A-AFFY-47/A-AFFY-47.adf.txt\n",
      "Resolving www.ebi.ac.uk (www.ebi.ac.uk)... 193.62.193.80\n",
      "Connecting to www.ebi.ac.uk (www.ebi.ac.uk)|193.62.193.80|:443... connected.\n",
      "HTTP request sent, awaiting response... 200 OK\n",
      "Length: 748713 (731K) [text/plain]\n",
      "Saving to: ‘A-AFFY-47.adf.txt.5’\n",
      "\n",
      "A-AFFY-47.adf.txt.5 100%[===================>] 731.17K  1.13MB/s    in 0.6s    \n",
      "\n",
      "2022-04-22 17:19:24 (1.13 MB/s) - ‘A-AFFY-47.adf.txt.5’ saved [748713/748713]\n",
      "\n"
     ]
    },
    {
     "data": {
      "text/html": [
       "<div>\n",
       "<style scoped>\n",
       "    .dataframe tbody tr th:only-of-type {\n",
       "        vertical-align: middle;\n",
       "    }\n",
       "\n",
       "    .dataframe tbody tr th {\n",
       "        vertical-align: top;\n",
       "    }\n",
       "\n",
       "    .dataframe thead th {\n",
       "        text-align: right;\n",
       "    }\n",
       "</style>\n",
       "<table border=\"1\" class=\"dataframe\">\n",
       "  <thead>\n",
       "    <tr style=\"text-align: right;\">\n",
       "      <th></th>\n",
       "      <th>RPTR-Sc-M57289-1_s_at</th>\n",
       "      <th>AFFX-Sc-M57289-1</th>\n",
       "      <th>Unnamed: 2</th>\n",
       "      <th>RPTR-Sc-M57289-1_s_at.1</th>\n",
       "      <th>Unnamed: 4</th>\n",
       "      <th>Unnamed: 5</th>\n",
       "      <th>Unnamed: 6</th>\n",
       "      <th>Unnamed: 7</th>\n",
       "      <th>Unnamed: 8</th>\n",
       "      <th>Unnamed: 9</th>\n",
       "      <th>Unnamed: 10</th>\n",
       "    </tr>\n",
       "  </thead>\n",
       "  <tbody>\n",
       "    <tr>\n",
       "      <th>0</th>\n",
       "      <td>1773641_x_at</td>\n",
       "      <td>YAL068C.S1</td>\n",
       "      <td>NaN</td>\n",
       "      <td>1773641_x_at</td>\n",
       "      <td>NaN</td>\n",
       "      <td>NaN</td>\n",
       "      <td>NaN</td>\n",
       "      <td>NaN</td>\n",
       "      <td>NaN</td>\n",
       "      <td>NaN</td>\n",
       "      <td>NaN</td>\n",
       "    </tr>\n",
       "    <tr>\n",
       "      <th>1</th>\n",
       "      <td>1771192_at</td>\n",
       "      <td>YAL067W-A.S1</td>\n",
       "      <td>NaN</td>\n",
       "      <td>1771192_at</td>\n",
       "      <td>NaN</td>\n",
       "      <td>NaN</td>\n",
       "      <td>NaN</td>\n",
       "      <td>NaN</td>\n",
       "      <td>NaN</td>\n",
       "      <td>NaN</td>\n",
       "      <td>NaN</td>\n",
       "    </tr>\n",
       "    <tr>\n",
       "      <th>2</th>\n",
       "      <td>1769997_at</td>\n",
       "      <td>YAL067C.S1</td>\n",
       "      <td>NaN</td>\n",
       "      <td>1769997_at</td>\n",
       "      <td>NaN</td>\n",
       "      <td>NaN</td>\n",
       "      <td>GO:0006810</td>\n",
       "      <td>EAK92569</td>\n",
       "      <td>S0000062</td>\n",
       "      <td>NaN</td>\n",
       "      <td>NaN</td>\n",
       "    </tr>\n",
       "    <tr>\n",
       "      <th>3</th>\n",
       "      <td>1775769_at</td>\n",
       "      <td>YAL065C.S1</td>\n",
       "      <td>NaN</td>\n",
       "      <td>1775769_at</td>\n",
       "      <td>NaN</td>\n",
       "      <td>NaN</td>\n",
       "      <td>NaN</td>\n",
       "      <td>BAA19915.1</td>\n",
       "      <td>S0001817</td>\n",
       "      <td>NaN</td>\n",
       "      <td>NaN</td>\n",
       "    </tr>\n",
       "    <tr>\n",
       "      <th>4</th>\n",
       "      <td>1771550_at</td>\n",
       "      <td>YAL064W-B.S1</td>\n",
       "      <td>NaN</td>\n",
       "      <td>1771550_at</td>\n",
       "      <td>NaN</td>\n",
       "      <td>NaN</td>\n",
       "      <td>NaN</td>\n",
       "      <td>NP_009336</td>\n",
       "      <td>S0002141</td>\n",
       "      <td>NaN</td>\n",
       "      <td>NaN</td>\n",
       "    </tr>\n",
       "  </tbody>\n",
       "</table>\n",
       "</div>"
      ],
      "text/plain": [
       "  RPTR-Sc-M57289-1_s_at AFFX-Sc-M57289-1 Unnamed: 2 RPTR-Sc-M57289-1_s_at.1  \\\n",
       "0          1773641_x_at       YAL068C.S1        NaN            1773641_x_at   \n",
       "1            1771192_at     YAL067W-A.S1        NaN              1771192_at   \n",
       "2            1769997_at       YAL067C.S1        NaN              1769997_at   \n",
       "3            1775769_at       YAL065C.S1        NaN              1775769_at   \n",
       "4            1771550_at     YAL064W-B.S1        NaN              1771550_at   \n",
       "\n",
       "  Unnamed: 4 Unnamed: 5  Unnamed: 6  Unnamed: 7 Unnamed: 8 Unnamed: 9  \\\n",
       "0        NaN        NaN         NaN         NaN        NaN        NaN   \n",
       "1        NaN        NaN         NaN         NaN        NaN        NaN   \n",
       "2        NaN        NaN  GO:0006810    EAK92569   S0000062        NaN   \n",
       "3        NaN        NaN         NaN  BAA19915.1   S0001817        NaN   \n",
       "4        NaN        NaN         NaN   NP_009336   S0002141        NaN   \n",
       "\n",
       "  Unnamed: 10  \n",
       "0         NaN  \n",
       "1         NaN  \n",
       "2         NaN  \n",
       "3         NaN  \n",
       "4         NaN  "
      ]
     },
     "execution_count": 21,
     "metadata": {},
     "output_type": "execute_result"
    }
   ],
   "source": [
    "! wget https://www.ebi.ac.uk/arrayexpress/files/A-AFFY-47/A-AFFY-47.adf.txt\n",
    "df2 = pandas.read_csv(\"A-AFFY-47.adf.txt\",sep=\"\\t\", skiprows = 231)\n",
    "df2.head()"
   ]
  },
  {
   "cell_type": "code",
   "execution_count": 22,
   "metadata": {
    "id": "KndgDZDy5AP_"
   },
   "outputs": [],
   "source": [
    "probe_map = df2.loc[:, \"RPTR-Sc-M57289-1_s_at\"].to_numpy()\n",
    "gene_map = df2.loc[:, \"AFFX-Sc-M57289-1\"].to_numpy()"
   ]
  },
  {
   "cell_type": "code",
   "execution_count": 23,
   "metadata": {
    "colab": {
     "base_uri": "https://localhost:8080/"
    },
    "id": "SMGCAhNe5B05",
    "outputId": "01eaf5b7-341e-4676-d5be-075b813f6258"
   },
   "outputs": [
    {
     "name": "stdout",
     "output_type": "stream",
     "text": [
      "38\n"
     ]
    }
   ],
   "source": [
    "probe_alc3 = find_probe_list(df_probe_list,df_control,df_alc3)\n",
    "up_gene_alc3 = find_gene_ids(probe_alc3, probe_map,gene_map)\n",
    "model_alc3 = adjust_model(model,up_gene_alc3)\n",
    "print(len(count_ko_reactions(model_alc3)))"
   ]
  },
  {
   "cell_type": "markdown",
   "metadata": {
    "id": "HV--U8ow6fA3"
   },
   "source": [
    "# 4.  find best pairs of genes for to couple with growth"
   ]
  },
  {
   "cell_type": "code",
   "execution_count": 24,
   "metadata": {},
   "outputs": [],
   "source": [
    "reaction_of_interest = 'r_1761' # ethanol export\n",
    "biomass_reaction_label = 'r_2111' # biomass function"
   ]
  },
  {
   "cell_type": "code",
   "execution_count": 25,
   "metadata": {
    "id": "VCx083JA5ZKY"
   },
   "outputs": [],
   "source": [
    "number_of_threads = 20"
   ]
  },
  {
   "cell_type": "code",
   "execution_count": 26,
   "metadata": {
    "id": "cJXqCskA5Zgf"
   },
   "outputs": [
    {
     "name": "stdout",
     "output_type": "stream",
     "text": [
      "2022-04-22 17:19:26 \t working with 1150 genes\n",
      "2022-04-22 17:19:27 \t working with 660675 gene pairs\n"
     ]
    }
   ],
   "source": [
    "printt('working with {} genes'.format(number_of_genes))   \n",
    "\n",
    "tasks = []\n",
    "for i in range(len(model_alc3.genes)):\n",
    "    for j in range(len(model_alc3.genes)):\n",
    "        if i < j:\n",
    "            task = [i, j, reaction_of_interest, biomass_reaction_label, model]\n",
    "            tasks.append(task)\n",
    "printt('working with {} gene pairs'.format(len(tasks)))"
   ]
  },
  {
   "cell_type": "code",
   "execution_count": 27,
   "metadata": {
    "id": "dfSlIFIj5b1H"
   },
   "outputs": [
    {
     "name": "stdout",
     "output_type": "stream",
     "text": [
      "2022-04-22 17:19:27 \t entering a parallel world of 20 threads\n"
     ]
    },
    {
     "name": "stderr",
     "output_type": "stream",
     "text": [
      "/home/adrian/anaconda3/lib/python3.8/site-packages/cobra/util/solver.py:554: UserWarning: Solver status is 'infeasible'.\n",
      "  warn(f\"Solver status is '{status}'.\", UserWarning)\n",
      "/home/adrian/anaconda3/lib/python3.8/site-packages/cobra/util/solver.py:554: UserWarning: Solver status is 'infeasible'.\n",
      "  warn(f\"Solver status is '{status}'.\", UserWarning)\n",
      "/home/adrian/anaconda3/lib/python3.8/site-packages/cobra/util/solver.py:554: UserWarning: Solver status is 'infeasible'.\n",
      "  warn(f\"Solver status is '{status}'.\", UserWarning)\n",
      "/home/adrian/anaconda3/lib/python3.8/site-packages/cobra/util/solver.py:554: UserWarning: Solver status is 'infeasible'.\n",
      "  warn(f\"Solver status is '{status}'.\", UserWarning)\n",
      "/home/adrian/anaconda3/lib/python3.8/site-packages/cobra/util/solver.py:554: UserWarning: Solver status is 'infeasible'.\n",
      "  warn(f\"Solver status is '{status}'.\", UserWarning)\n",
      "/home/adrian/anaconda3/lib/python3.8/site-packages/cobra/util/solver.py:554: UserWarning: Solver status is 'infeasible'.\n",
      "  warn(f\"Solver status is '{status}'.\", UserWarning)\n",
      "/home/adrian/anaconda3/lib/python3.8/site-packages/cobra/util/solver.py:554: UserWarning: Solver status is 'infeasible'.\n",
      "  warn(f\"Solver status is '{status}'.\", UserWarning)\n",
      "/home/adrian/anaconda3/lib/python3.8/site-packages/cobra/util/solver.py:554: UserWarning: Solver status is 'infeasible'.\n",
      "  warn(f\"Solver status is '{status}'.\", UserWarning)\n",
      "/home/adrian/anaconda3/lib/python3.8/site-packages/cobra/util/solver.py:554: UserWarning: Solver status is 'infeasible'.\n",
      "  warn(f\"Solver status is '{status}'.\", UserWarning)\n",
      "/home/adrian/anaconda3/lib/python3.8/site-packages/cobra/util/solver.py:554: UserWarning: Solver status is 'infeasible'.\n",
      "  warn(f\"Solver status is '{status}'.\", UserWarning)\n",
      "/home/adrian/anaconda3/lib/python3.8/site-packages/cobra/util/solver.py:554: UserWarning: Solver status is 'infeasible'.\n",
      "  warn(f\"Solver status is '{status}'.\", UserWarning)\n",
      "/home/adrian/anaconda3/lib/python3.8/site-packages/cobra/util/solver.py:554: UserWarning: Solver status is 'infeasible'.\n",
      "  warn(f\"Solver status is '{status}'.\", UserWarning)\n",
      "/home/adrian/anaconda3/lib/python3.8/site-packages/cobra/util/solver.py:554: UserWarning: Solver status is 'infeasible'.\n",
      "  warn(f\"Solver status is '{status}'.\", UserWarning)\n",
      "/home/adrian/anaconda3/lib/python3.8/site-packages/cobra/util/solver.py:554: UserWarning: Solver status is 'infeasible'.\n",
      "  warn(f\"Solver status is '{status}'.\", UserWarning)\n",
      "/home/adrian/anaconda3/lib/python3.8/site-packages/cobra/util/solver.py:554: UserWarning: Solver status is 'infeasible'.\n",
      "  warn(f\"Solver status is '{status}'.\", UserWarning)\n",
      "/home/adrian/anaconda3/lib/python3.8/site-packages/cobra/util/solver.py:554: UserWarning: Solver status is 'infeasible'.\n",
      "  warn(f\"Solver status is '{status}'.\", UserWarning)\n",
      "/home/adrian/anaconda3/lib/python3.8/site-packages/cobra/util/solver.py:554: UserWarning: Solver status is 'infeasible'.\n",
      "  warn(f\"Solver status is '{status}'.\", UserWarning)\n",
      "/home/adrian/anaconda3/lib/python3.8/site-packages/cobra/util/solver.py:554: UserWarning: Solver status is 'infeasible'.\n",
      "  warn(f\"Solver status is '{status}'.\", UserWarning)\n",
      "/home/adrian/anaconda3/lib/python3.8/site-packages/cobra/util/solver.py:554: UserWarning: Solver status is 'infeasible'.\n",
      "  warn(f\"Solver status is '{status}'.\", UserWarning)\n",
      "/home/adrian/anaconda3/lib/python3.8/site-packages/cobra/util/solver.py:554: UserWarning: Solver status is 'infeasible'.\n",
      "  warn(f\"Solver status is '{status}'.\", UserWarning)\n",
      "/home/adrian/anaconda3/lib/python3.8/site-packages/cobra/util/solver.py:554: UserWarning: Solver status is 'infeasible'.\n",
      "  warn(f\"Solver status is '{status}'.\", UserWarning)\n",
      "/home/adrian/anaconda3/lib/python3.8/site-packages/cobra/util/solver.py:554: UserWarning: Solver status is 'infeasible'.\n",
      "  warn(f\"Solver status is '{status}'.\", UserWarning)\n",
      "/home/adrian/anaconda3/lib/python3.8/site-packages/cobra/util/solver.py:554: UserWarning: Solver status is 'infeasible'.\n",
      "  warn(f\"Solver status is '{status}'.\", UserWarning)\n",
      "/home/adrian/anaconda3/lib/python3.8/site-packages/cobra/util/solver.py:554: UserWarning: Solver status is 'infeasible'.\n",
      "  warn(f\"Solver status is '{status}'.\", UserWarning)\n",
      "/home/adrian/anaconda3/lib/python3.8/site-packages/cobra/util/solver.py:554: UserWarning: Solver status is 'infeasible'.\n",
      "  warn(f\"Solver status is '{status}'.\", UserWarning)\n",
      "/home/adrian/anaconda3/lib/python3.8/site-packages/cobra/util/solver.py:554: UserWarning: Solver status is 'infeasible'.\n",
      "  warn(f\"Solver status is '{status}'.\", UserWarning)\n",
      "/home/adrian/anaconda3/lib/python3.8/site-packages/cobra/util/solver.py:554: UserWarning: Solver status is 'infeasible'.\n",
      "  warn(f\"Solver status is '{status}'.\", UserWarning)\n",
      "/home/adrian/anaconda3/lib/python3.8/site-packages/cobra/util/solver.py:554: UserWarning: Solver status is 'infeasible'.\n",
      "  warn(f\"Solver status is '{status}'.\", UserWarning)\n",
      "/home/adrian/anaconda3/lib/python3.8/site-packages/cobra/util/solver.py:554: UserWarning: Solver status is 'infeasible'.\n",
      "  warn(f\"Solver status is '{status}'.\", UserWarning)\n",
      "/home/adrian/anaconda3/lib/python3.8/site-packages/cobra/util/solver.py:554: UserWarning: Solver status is 'infeasible'.\n",
      "  warn(f\"Solver status is '{status}'.\", UserWarning)\n",
      "/home/adrian/anaconda3/lib/python3.8/site-packages/cobra/util/solver.py:554: UserWarning: Solver status is 'infeasible'.\n",
      "  warn(f\"Solver status is '{status}'.\", UserWarning)\n",
      "/home/adrian/anaconda3/lib/python3.8/site-packages/cobra/util/solver.py:554: UserWarning: Solver status is 'infeasible'.\n",
      "  warn(f\"Solver status is '{status}'.\", UserWarning)\n",
      "/home/adrian/anaconda3/lib/python3.8/site-packages/cobra/util/solver.py:554: UserWarning: Solver status is 'infeasible'.\n",
      "  warn(f\"Solver status is '{status}'.\", UserWarning)\n",
      "/home/adrian/anaconda3/lib/python3.8/site-packages/cobra/util/solver.py:554: UserWarning: Solver status is 'infeasible'.\n",
      "  warn(f\"Solver status is '{status}'.\", UserWarning)\n",
      "/home/adrian/anaconda3/lib/python3.8/site-packages/cobra/util/solver.py:554: UserWarning: Solver status is 'infeasible'.\n",
      "  warn(f\"Solver status is '{status}'.\", UserWarning)\n",
      "/home/adrian/anaconda3/lib/python3.8/site-packages/cobra/util/solver.py:554: UserWarning: Solver status is 'infeasible'.\n",
      "  warn(f\"Solver status is '{status}'.\", UserWarning)\n",
      "/home/adrian/anaconda3/lib/python3.8/site-packages/cobra/util/solver.py:554: UserWarning: Solver status is 'infeasible'.\n",
      "  warn(f\"Solver status is '{status}'.\", UserWarning)\n",
      "/home/adrian/anaconda3/lib/python3.8/site-packages/cobra/util/solver.py:554: UserWarning: Solver status is 'infeasible'.\n",
      "  warn(f\"Solver status is '{status}'.\", UserWarning)\n",
      "/home/adrian/anaconda3/lib/python3.8/site-packages/cobra/util/solver.py:554: UserWarning: Solver status is 'infeasible'.\n",
      "  warn(f\"Solver status is '{status}'.\", UserWarning)\n",
      "/home/adrian/anaconda3/lib/python3.8/site-packages/cobra/util/solver.py:554: UserWarning: Solver status is 'infeasible'.\n",
      "  warn(f\"Solver status is '{status}'.\", UserWarning)\n",
      "/home/adrian/anaconda3/lib/python3.8/site-packages/cobra/util/solver.py:554: UserWarning: Solver status is 'infeasible'.\n",
      "  warn(f\"Solver status is '{status}'.\", UserWarning)\n",
      "/home/adrian/anaconda3/lib/python3.8/site-packages/cobra/util/solver.py:554: UserWarning: Solver status is 'infeasible'.\n",
      "  warn(f\"Solver status is '{status}'.\", UserWarning)\n",
      "/home/adrian/anaconda3/lib/python3.8/site-packages/cobra/util/solver.py:554: UserWarning: Solver status is 'infeasible'.\n",
      "  warn(f\"Solver status is '{status}'.\", UserWarning)\n",
      "/home/adrian/anaconda3/lib/python3.8/site-packages/cobra/util/solver.py:554: UserWarning: Solver status is 'infeasible'.\n",
      "  warn(f\"Solver status is '{status}'.\", UserWarning)\n",
      "/home/adrian/anaconda3/lib/python3.8/site-packages/cobra/util/solver.py:554: UserWarning: Solver status is 'infeasible'.\n",
      "  warn(f\"Solver status is '{status}'.\", UserWarning)\n",
      "/home/adrian/anaconda3/lib/python3.8/site-packages/cobra/util/solver.py:554: UserWarning: Solver status is 'infeasible'.\n",
      "  warn(f\"Solver status is '{status}'.\", UserWarning)\n",
      "/home/adrian/anaconda3/lib/python3.8/site-packages/cobra/util/solver.py:554: UserWarning: Solver status is 'infeasible'.\n",
      "  warn(f\"Solver status is '{status}'.\", UserWarning)\n",
      "/home/adrian/anaconda3/lib/python3.8/site-packages/cobra/util/solver.py:554: UserWarning: Solver status is 'infeasible'.\n",
      "  warn(f\"Solver status is '{status}'.\", UserWarning)\n"
     ]
    },
    {
     "name": "stderr",
     "output_type": "stream",
     "text": [
      "/home/adrian/anaconda3/lib/python3.8/site-packages/cobra/util/solver.py:554: UserWarning: Solver status is 'infeasible'.\n",
      "  warn(f\"Solver status is '{status}'.\", UserWarning)\n",
      "/home/adrian/anaconda3/lib/python3.8/site-packages/cobra/util/solver.py:554: UserWarning: Solver status is 'infeasible'.\n",
      "  warn(f\"Solver status is '{status}'.\", UserWarning)\n",
      "/home/adrian/anaconda3/lib/python3.8/site-packages/cobra/util/solver.py:554: UserWarning: Solver status is 'infeasible'.\n",
      "  warn(f\"Solver status is '{status}'.\", UserWarning)\n",
      "/home/adrian/anaconda3/lib/python3.8/site-packages/cobra/util/solver.py:554: UserWarning: Solver status is 'infeasible'.\n",
      "  warn(f\"Solver status is '{status}'.\", UserWarning)\n",
      "/home/adrian/anaconda3/lib/python3.8/site-packages/cobra/util/solver.py:554: UserWarning: Solver status is 'infeasible'.\n",
      "  warn(f\"Solver status is '{status}'.\", UserWarning)\n",
      "/home/adrian/anaconda3/lib/python3.8/site-packages/cobra/util/solver.py:554: UserWarning: Solver status is 'infeasible'.\n",
      "  warn(f\"Solver status is '{status}'.\", UserWarning)\n",
      "/home/adrian/anaconda3/lib/python3.8/site-packages/cobra/util/solver.py:554: UserWarning: Solver status is 'infeasible'.\n",
      "  warn(f\"Solver status is '{status}'.\", UserWarning)\n",
      "/home/adrian/anaconda3/lib/python3.8/site-packages/cobra/util/solver.py:554: UserWarning: Solver status is 'infeasible'.\n",
      "  warn(f\"Solver status is '{status}'.\", UserWarning)\n",
      "/home/adrian/anaconda3/lib/python3.8/site-packages/cobra/util/solver.py:554: UserWarning: Solver status is 'infeasible'.\n",
      "  warn(f\"Solver status is '{status}'.\", UserWarning)\n",
      "/home/adrian/anaconda3/lib/python3.8/site-packages/cobra/util/solver.py:554: UserWarning: Solver status is 'infeasible'.\n",
      "  warn(f\"Solver status is '{status}'.\", UserWarning)\n",
      "/home/adrian/anaconda3/lib/python3.8/site-packages/cobra/util/solver.py:554: UserWarning: Solver status is 'infeasible'.\n",
      "  warn(f\"Solver status is '{status}'.\", UserWarning)\n",
      "/home/adrian/anaconda3/lib/python3.8/site-packages/cobra/util/solver.py:554: UserWarning: Solver status is 'infeasible'.\n",
      "  warn(f\"Solver status is '{status}'.\", UserWarning)\n",
      "/home/adrian/anaconda3/lib/python3.8/site-packages/cobra/util/solver.py:554: UserWarning: Solver status is 'infeasible'.\n",
      "  warn(f\"Solver status is '{status}'.\", UserWarning)\n",
      "/home/adrian/anaconda3/lib/python3.8/site-packages/cobra/util/solver.py:554: UserWarning: Solver status is 'infeasible'.\n",
      "  warn(f\"Solver status is '{status}'.\", UserWarning)\n",
      "/home/adrian/anaconda3/lib/python3.8/site-packages/cobra/util/solver.py:554: UserWarning: Solver status is 'infeasible'.\n",
      "  warn(f\"Solver status is '{status}'.\", UserWarning)\n",
      "/home/adrian/anaconda3/lib/python3.8/site-packages/cobra/util/solver.py:554: UserWarning: Solver status is 'infeasible'.\n",
      "  warn(f\"Solver status is '{status}'.\", UserWarning)\n",
      "/home/adrian/anaconda3/lib/python3.8/site-packages/cobra/util/solver.py:554: UserWarning: Solver status is 'infeasible'.\n",
      "  warn(f\"Solver status is '{status}'.\", UserWarning)\n",
      "/home/adrian/anaconda3/lib/python3.8/site-packages/cobra/util/solver.py:554: UserWarning: Solver status is 'infeasible'.\n",
      "  warn(f\"Solver status is '{status}'.\", UserWarning)\n",
      "/home/adrian/anaconda3/lib/python3.8/site-packages/cobra/util/solver.py:554: UserWarning: Solver status is 'infeasible'.\n",
      "  warn(f\"Solver status is '{status}'.\", UserWarning)\n",
      "/home/adrian/anaconda3/lib/python3.8/site-packages/cobra/util/solver.py:554: UserWarning: Solver status is 'infeasible'.\n",
      "  warn(f\"Solver status is '{status}'.\", UserWarning)\n",
      "/home/adrian/anaconda3/lib/python3.8/site-packages/cobra/util/solver.py:554: UserWarning: Solver status is 'infeasible'.\n",
      "  warn(f\"Solver status is '{status}'.\", UserWarning)\n",
      "/home/adrian/anaconda3/lib/python3.8/site-packages/cobra/util/solver.py:554: UserWarning: Solver status is 'infeasible'.\n",
      "  warn(f\"Solver status is '{status}'.\", UserWarning)\n",
      "/home/adrian/anaconda3/lib/python3.8/site-packages/cobra/util/solver.py:554: UserWarning: Solver status is 'infeasible'.\n",
      "  warn(f\"Solver status is '{status}'.\", UserWarning)\n",
      "/home/adrian/anaconda3/lib/python3.8/site-packages/cobra/util/solver.py:554: UserWarning: Solver status is 'infeasible'.\n",
      "  warn(f\"Solver status is '{status}'.\", UserWarning)\n",
      "/home/adrian/anaconda3/lib/python3.8/site-packages/cobra/util/solver.py:554: UserWarning: Solver status is 'infeasible'.\n",
      "  warn(f\"Solver status is '{status}'.\", UserWarning)\n",
      "/home/adrian/anaconda3/lib/python3.8/site-packages/cobra/util/solver.py:554: UserWarning: Solver status is 'infeasible'.\n",
      "  warn(f\"Solver status is '{status}'.\", UserWarning)\n",
      "/home/adrian/anaconda3/lib/python3.8/site-packages/cobra/util/solver.py:554: UserWarning: Solver status is 'infeasible'.\n",
      "  warn(f\"Solver status is '{status}'.\", UserWarning)\n",
      "/home/adrian/anaconda3/lib/python3.8/site-packages/cobra/util/solver.py:554: UserWarning: Solver status is 'infeasible'.\n",
      "  warn(f\"Solver status is '{status}'.\", UserWarning)\n",
      "/home/adrian/anaconda3/lib/python3.8/site-packages/cobra/util/solver.py:554: UserWarning: Solver status is 'infeasible'.\n",
      "  warn(f\"Solver status is '{status}'.\", UserWarning)\n",
      "/home/adrian/anaconda3/lib/python3.8/site-packages/cobra/util/solver.py:554: UserWarning: Solver status is 'infeasible'.\n",
      "  warn(f\"Solver status is '{status}'.\", UserWarning)\n",
      "/home/adrian/anaconda3/lib/python3.8/site-packages/cobra/util/solver.py:554: UserWarning: Solver status is 'infeasible'.\n",
      "  warn(f\"Solver status is '{status}'.\", UserWarning)\n",
      "/home/adrian/anaconda3/lib/python3.8/site-packages/cobra/util/solver.py:554: UserWarning: Solver status is 'infeasible'.\n",
      "  warn(f\"Solver status is '{status}'.\", UserWarning)\n",
      "/home/adrian/anaconda3/lib/python3.8/site-packages/cobra/util/solver.py:554: UserWarning: Solver status is 'infeasible'.\n",
      "  warn(f\"Solver status is '{status}'.\", UserWarning)\n",
      "/home/adrian/anaconda3/lib/python3.8/site-packages/cobra/util/solver.py:554: UserWarning: Solver status is 'infeasible'.\n",
      "  warn(f\"Solver status is '{status}'.\", UserWarning)\n",
      "/home/adrian/anaconda3/lib/python3.8/site-packages/cobra/util/solver.py:554: UserWarning: Solver status is 'infeasible'.\n",
      "  warn(f\"Solver status is '{status}'.\", UserWarning)\n",
      "/home/adrian/anaconda3/lib/python3.8/site-packages/cobra/util/solver.py:554: UserWarning: Solver status is 'infeasible'.\n",
      "  warn(f\"Solver status is '{status}'.\", UserWarning)\n",
      "/home/adrian/anaconda3/lib/python3.8/site-packages/cobra/util/solver.py:554: UserWarning: Solver status is 'infeasible'.\n",
      "  warn(f\"Solver status is '{status}'.\", UserWarning)\n",
      "/home/adrian/anaconda3/lib/python3.8/site-packages/cobra/util/solver.py:554: UserWarning: Solver status is 'infeasible'.\n",
      "  warn(f\"Solver status is '{status}'.\", UserWarning)\n",
      "/home/adrian/anaconda3/lib/python3.8/site-packages/cobra/util/solver.py:554: UserWarning: Solver status is 'infeasible'.\n",
      "  warn(f\"Solver status is '{status}'.\", UserWarning)\n",
      "/home/adrian/anaconda3/lib/python3.8/site-packages/cobra/util/solver.py:554: UserWarning: Solver status is 'infeasible'.\n",
      "  warn(f\"Solver status is '{status}'.\", UserWarning)\n",
      "/home/adrian/anaconda3/lib/python3.8/site-packages/cobra/util/solver.py:554: UserWarning: Solver status is 'infeasible'.\n",
      "  warn(f\"Solver status is '{status}'.\", UserWarning)\n",
      "/home/adrian/anaconda3/lib/python3.8/site-packages/cobra/util/solver.py:554: UserWarning: Solver status is 'infeasible'.\n",
      "  warn(f\"Solver status is '{status}'.\", UserWarning)\n",
      "/home/adrian/anaconda3/lib/python3.8/site-packages/cobra/util/solver.py:554: UserWarning: Solver status is 'infeasible'.\n",
      "  warn(f\"Solver status is '{status}'.\", UserWarning)\n",
      "/home/adrian/anaconda3/lib/python3.8/site-packages/cobra/util/solver.py:554: UserWarning: Solver status is 'infeasible'.\n",
      "  warn(f\"Solver status is '{status}'.\", UserWarning)\n",
      "/home/adrian/anaconda3/lib/python3.8/site-packages/cobra/util/solver.py:554: UserWarning: Solver status is 'infeasible'.\n",
      "  warn(f\"Solver status is '{status}'.\", UserWarning)\n",
      "/home/adrian/anaconda3/lib/python3.8/site-packages/cobra/util/solver.py:554: UserWarning: Solver status is 'infeasible'.\n",
      "  warn(f\"Solver status is '{status}'.\", UserWarning)\n",
      "/home/adrian/anaconda3/lib/python3.8/site-packages/cobra/util/solver.py:554: UserWarning: Solver status is 'infeasible'.\n",
      "  warn(f\"Solver status is '{status}'.\", UserWarning)\n",
      "/home/adrian/anaconda3/lib/python3.8/site-packages/cobra/util/solver.py:554: UserWarning: Solver status is 'infeasible'.\n",
      "  warn(f\"Solver status is '{status}'.\", UserWarning)\n"
     ]
    },
    {
     "name": "stderr",
     "output_type": "stream",
     "text": [
      "/home/adrian/anaconda3/lib/python3.8/site-packages/cobra/util/solver.py:554: UserWarning: Solver status is 'infeasible'.\n",
      "  warn(f\"Solver status is '{status}'.\", UserWarning)\n",
      "/home/adrian/anaconda3/lib/python3.8/site-packages/cobra/util/solver.py:554: UserWarning: Solver status is 'infeasible'.\n",
      "  warn(f\"Solver status is '{status}'.\", UserWarning)\n",
      "/home/adrian/anaconda3/lib/python3.8/site-packages/cobra/util/solver.py:554: UserWarning: Solver status is 'infeasible'.\n",
      "  warn(f\"Solver status is '{status}'.\", UserWarning)\n",
      "/home/adrian/anaconda3/lib/python3.8/site-packages/cobra/util/solver.py:554: UserWarning: Solver status is 'infeasible'.\n",
      "  warn(f\"Solver status is '{status}'.\", UserWarning)\n",
      "/home/adrian/anaconda3/lib/python3.8/site-packages/cobra/util/solver.py:554: UserWarning: Solver status is 'infeasible'.\n",
      "  warn(f\"Solver status is '{status}'.\", UserWarning)\n",
      "/home/adrian/anaconda3/lib/python3.8/site-packages/cobra/util/solver.py:554: UserWarning: Solver status is 'infeasible'.\n",
      "  warn(f\"Solver status is '{status}'.\", UserWarning)\n",
      "/home/adrian/anaconda3/lib/python3.8/site-packages/cobra/util/solver.py:554: UserWarning: Solver status is 'infeasible'.\n",
      "  warn(f\"Solver status is '{status}'.\", UserWarning)\n",
      "/home/adrian/anaconda3/lib/python3.8/site-packages/cobra/util/solver.py:554: UserWarning: Solver status is 'infeasible'.\n",
      "  warn(f\"Solver status is '{status}'.\", UserWarning)\n",
      "/home/adrian/anaconda3/lib/python3.8/site-packages/cobra/util/solver.py:554: UserWarning: Solver status is 'infeasible'.\n",
      "  warn(f\"Solver status is '{status}'.\", UserWarning)\n"
     ]
    },
    {
     "name": "stdout",
     "output_type": "stream",
     "text": [
      "2022-04-22 20:38:40 \t completed 660675 tasks\n",
      "CPU times: user 10.5 s, sys: 927 ms, total: 11.4 s\n",
      "Wall time: 3h 19min 13s\n"
     ]
    }
   ],
   "source": [
    "%%time\n",
    "printt('entering a parallel world of {} threads'.format(number_of_threads))\n",
    "hydra = multiprocessing.pool.Pool(number_of_threads)\n",
    "hydra_output = hydra.map(growth_coupled_analysis, tasks)\n",
    "hydra.close()\n",
    "printt('completed {} tasks'.format(len(hydra_output)))"
   ]
  },
  {
   "cell_type": "code",
   "execution_count": 28,
   "metadata": {
    "id": "jog_3W3b5eMH"
   },
   "outputs": [],
   "source": [
    "df = pandas.DataFrame(hydra_output, columns=['i', 'j', 'KO growth', 'min production', 'max production'])\n",
    "df.sort_values(by=['min production'], ascending=False, inplace=True)"
   ]
  },
  {
   "cell_type": "code",
   "execution_count": 29,
   "metadata": {
    "id": "KAGfCVCX5gKm"
   },
   "outputs": [
    {
     "name": "stdout",
     "output_type": "stream",
     "text": [
      "2022-04-22 20:38:41 \t store double KO information as a dataframe\n"
     ]
    }
   ],
   "source": [
    "printt('store double KO information as a dataframe')\n",
    "\n",
    "with open('doubleKO_up.json', 'w') as f:\n",
    "    json.dump(df.to_json(), f)"
   ]
  },
  {
   "cell_type": "code",
   "execution_count": 30,
   "metadata": {},
   "outputs": [
    {
     "name": "stdout",
     "output_type": "stream",
     "text": [
      "(660675, 5)\n"
     ]
    },
    {
     "data": {
      "text/html": [
       "<div>\n",
       "<style scoped>\n",
       "    .dataframe tbody tr th:only-of-type {\n",
       "        vertical-align: middle;\n",
       "    }\n",
       "\n",
       "    .dataframe tbody tr th {\n",
       "        vertical-align: top;\n",
       "    }\n",
       "\n",
       "    .dataframe thead th {\n",
       "        text-align: right;\n",
       "    }\n",
       "</style>\n",
       "<table border=\"1\" class=\"dataframe\">\n",
       "  <thead>\n",
       "    <tr style=\"text-align: right;\">\n",
       "      <th></th>\n",
       "      <th>i</th>\n",
       "      <th>j</th>\n",
       "      <th>KO growth</th>\n",
       "      <th>min production</th>\n",
       "      <th>max production</th>\n",
       "    </tr>\n",
       "  </thead>\n",
       "  <tbody>\n",
       "    <tr>\n",
       "      <th>6096</th>\n",
       "      <td>5</td>\n",
       "      <td>367</td>\n",
       "      <td>0.011881</td>\n",
       "      <td>1.817701</td>\n",
       "      <td>1.817701</td>\n",
       "    </tr>\n",
       "    <tr>\n",
       "      <th>7239</th>\n",
       "      <td>6</td>\n",
       "      <td>367</td>\n",
       "      <td>0.011881</td>\n",
       "      <td>1.817701</td>\n",
       "      <td>1.817701</td>\n",
       "    </tr>\n",
       "    <tr>\n",
       "      <th>6542</th>\n",
       "      <td>5</td>\n",
       "      <td>813</td>\n",
       "      <td>0.011881</td>\n",
       "      <td>1.817701</td>\n",
       "      <td>1.817701</td>\n",
       "    </tr>\n",
       "    <tr>\n",
       "      <th>7685</th>\n",
       "      <td>6</td>\n",
       "      <td>813</td>\n",
       "      <td>0.011881</td>\n",
       "      <td>1.817701</td>\n",
       "      <td>1.817701</td>\n",
       "    </tr>\n",
       "    <tr>\n",
       "      <th>366</th>\n",
       "      <td>0</td>\n",
       "      <td>367</td>\n",
       "      <td>0.011881</td>\n",
       "      <td>1.817700</td>\n",
       "      <td>1.817700</td>\n",
       "    </tr>\n",
       "  </tbody>\n",
       "</table>\n",
       "</div>"
      ],
      "text/plain": [
       "      i    j  KO growth  min production  max production\n",
       "6096  5  367   0.011881        1.817701        1.817701\n",
       "7239  6  367   0.011881        1.817701        1.817701\n",
       "6542  5  813   0.011881        1.817701        1.817701\n",
       "7685  6  813   0.011881        1.817701        1.817701\n",
       "366   0  367   0.011881        1.817700        1.817700"
      ]
     },
     "execution_count": 30,
     "metadata": {},
     "output_type": "execute_result"
    }
   ],
   "source": [
    "# how to read the JSON file\n",
    "with open('doubleKO_up.json', 'r') as f:\n",
    "    new_str = json.load(f)\n",
    "new = pandas.read_json(new_str)\n",
    "print(new.shape)\n",
    "new.head()"
   ]
  },
  {
   "cell_type": "code",
   "execution_count": 31,
   "metadata": {},
   "outputs": [
    {
     "data": {
      "text/html": [
       "<div>\n",
       "<style scoped>\n",
       "    .dataframe tbody tr th:only-of-type {\n",
       "        vertical-align: middle;\n",
       "    }\n",
       "\n",
       "    .dataframe tbody tr th {\n",
       "        vertical-align: top;\n",
       "    }\n",
       "\n",
       "    .dataframe thead th {\n",
       "        text-align: right;\n",
       "    }\n",
       "</style>\n",
       "<table border=\"1\" class=\"dataframe\">\n",
       "  <thead>\n",
       "    <tr style=\"text-align: right;\">\n",
       "      <th></th>\n",
       "      <th>i</th>\n",
       "      <th>j</th>\n",
       "      <th>KO growth</th>\n",
       "      <th>min production</th>\n",
       "      <th>max production</th>\n",
       "    </tr>\n",
       "  </thead>\n",
       "  <tbody>\n",
       "    <tr>\n",
       "      <th>6096</th>\n",
       "      <td>5</td>\n",
       "      <td>367</td>\n",
       "      <td>0.011881</td>\n",
       "      <td>1.817701</td>\n",
       "      <td>1.817701</td>\n",
       "    </tr>\n",
       "    <tr>\n",
       "      <th>7239</th>\n",
       "      <td>6</td>\n",
       "      <td>367</td>\n",
       "      <td>0.011881</td>\n",
       "      <td>1.817701</td>\n",
       "      <td>1.817701</td>\n",
       "    </tr>\n",
       "    <tr>\n",
       "      <th>6542</th>\n",
       "      <td>5</td>\n",
       "      <td>813</td>\n",
       "      <td>0.011881</td>\n",
       "      <td>1.817701</td>\n",
       "      <td>1.817701</td>\n",
       "    </tr>\n",
       "    <tr>\n",
       "      <th>7685</th>\n",
       "      <td>6</td>\n",
       "      <td>813</td>\n",
       "      <td>0.011881</td>\n",
       "      <td>1.817701</td>\n",
       "      <td>1.817701</td>\n",
       "    </tr>\n",
       "    <tr>\n",
       "      <th>366</th>\n",
       "      <td>0</td>\n",
       "      <td>367</td>\n",
       "      <td>0.011881</td>\n",
       "      <td>1.817700</td>\n",
       "      <td>1.817700</td>\n",
       "    </tr>\n",
       "    <tr>\n",
       "      <th>...</th>\n",
       "      <td>...</td>\n",
       "      <td>...</td>\n",
       "      <td>...</td>\n",
       "      <td>...</td>\n",
       "      <td>...</td>\n",
       "    </tr>\n",
       "    <tr>\n",
       "      <th>84231</th>\n",
       "      <td>75</td>\n",
       "      <td>907</td>\n",
       "      <td>0.009049</td>\n",
       "      <td>1.526161</td>\n",
       "      <td>1.526161</td>\n",
       "    </tr>\n",
       "    <tr>\n",
       "      <th>6947</th>\n",
       "      <td>6</td>\n",
       "      <td>75</td>\n",
       "      <td>0.009019</td>\n",
       "      <td>1.496410</td>\n",
       "      <td>1.526623</td>\n",
       "    </tr>\n",
       "    <tr>\n",
       "      <th>83455</th>\n",
       "      <td>75</td>\n",
       "      <td>131</td>\n",
       "      <td>0.009019</td>\n",
       "      <td>1.496410</td>\n",
       "      <td>1.526623</td>\n",
       "    </tr>\n",
       "    <tr>\n",
       "      <th>5804</th>\n",
       "      <td>5</td>\n",
       "      <td>75</td>\n",
       "      <td>0.009019</td>\n",
       "      <td>1.496410</td>\n",
       "      <td>1.526623</td>\n",
       "    </tr>\n",
       "    <tr>\n",
       "      <th>74</th>\n",
       "      <td>0</td>\n",
       "      <td>75</td>\n",
       "      <td>0.009019</td>\n",
       "      <td>1.496409</td>\n",
       "      <td>1.526624</td>\n",
       "    </tr>\n",
       "  </tbody>\n",
       "</table>\n",
       "<p>13653 rows × 5 columns</p>\n",
       "</div>"
      ],
      "text/plain": [
       "        i    j  KO growth  min production  max production\n",
       "6096    5  367   0.011881        1.817701        1.817701\n",
       "7239    6  367   0.011881        1.817701        1.817701\n",
       "6542    5  813   0.011881        1.817701        1.817701\n",
       "7685    6  813   0.011881        1.817701        1.817701\n",
       "366     0  367   0.011881        1.817700        1.817700\n",
       "...    ..  ...        ...             ...             ...\n",
       "84231  75  907   0.009049        1.526161        1.526161\n",
       "6947    6   75   0.009019        1.496410        1.526623\n",
       "83455  75  131   0.009019        1.496410        1.526623\n",
       "5804    5   75   0.009019        1.496410        1.526623\n",
       "74      0   75   0.009019        1.496409        1.526624\n",
       "\n",
       "[13653 rows x 5 columns]"
      ]
     },
     "execution_count": 31,
     "metadata": {},
     "output_type": "execute_result"
    }
   ],
   "source": [
    "new[new['min production'] > 1]"
   ]
  },
  {
   "cell_type": "code",
   "execution_count": null,
   "metadata": {},
   "outputs": [],
   "source": []
  }
 ],
 "metadata": {
  "colab": {
   "name": "growth-coupled design yeast upregulated model.ipynb",
   "provenance": []
  },
  "kernelspec": {
   "display_name": "Python 3",
   "language": "python",
   "name": "python3"
  },
  "language_info": {
   "codemirror_mode": {
    "name": "ipython",
    "version": 3
   },
   "file_extension": ".py",
   "mimetype": "text/x-python",
   "name": "python",
   "nbconvert_exporter": "python",
   "pygments_lexer": "ipython3",
   "version": "3.8.13"
  }
 },
 "nbformat": 4,
 "nbformat_minor": 1
}
