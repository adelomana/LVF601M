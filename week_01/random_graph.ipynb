{
 "cells": [
  {
   "cell_type": "code",
   "execution_count": 7,
   "metadata": {},
   "outputs": [],
   "source": [
    "import networkx as nx\n",
    "import numpy"
   ]
  },
  {
   "cell_type": "code",
   "execution_count": 22,
   "metadata": {},
   "outputs": [
    {
     "name": "stdout",
     "output_type": "stream",
     "text": [
      "[0, 1, 2, 3, 4, 5, 6, 7, 8, 9]\n",
      "[(0, 3), (0, 0), (0, 8), (1, 9), (1, 5), (1, 7), (2, 7), (2, 4), (2, 6), (2, 5), (3, 9), (3, 5), (3, 7), (3, 4), (4, 9), (5, 5), (5, 7), (6, 9), (7, 9), (8, 8)]\n"
     ]
    }
   ],
   "source": [
    "n = 10  # 10 nodes\n",
    "m = 20  # 20 edges\n",
    "\n",
    "# create graph\n",
    "G = nx.Graph()\n",
    "\n",
    "# add nodes\n",
    "node_list = numpy.arange(n)\n",
    "G.add_nodes_from(node_list)\n",
    "\n",
    "\n",
    "# add edges\n",
    "edge_list = []\n",
    "\n",
    "while len(edge_list) < m:\n",
    "    \n",
    "    # select two nodes randomly\n",
    "    a = numpy.random.choice(node_list)\n",
    "    b = numpy.random.choice(node_list)\n",
    "\n",
    "    if (a, b) not in edge_list:\n",
    "        if (b, a) not in edge_list:\n",
    "            edge_list.append((a, b))\n",
    "    \n",
    "G.add_edges_from(edge_list)\n",
    "    \n",
    "print(list(G.nodes))\n",
    "print(list(G.edges))"
   ]
  },
  {
   "cell_type": "code",
   "execution_count": 21,
   "metadata": {},
   "outputs": [
    {
     "data": {
      "text/plain": [
       "2"
      ]
     },
     "execution_count": 21,
     "metadata": {},
     "output_type": "execute_result"
    }
   ],
   "source": [
    "nx.number_of_selfloops(G)"
   ]
  },
  {
   "cell_type": "code",
   "execution_count": 16,
   "metadata": {},
   "outputs": [
    {
     "name": "stdout",
     "output_type": "stream",
     "text": [
      "[0, 1, 2, 3, 4, 5, 6, 7, 8, 9]\n",
      "[]\n"
     ]
    }
   ],
   "source": [
    "n = 10  # 10 nodes\n",
    "m = 20  # 20 edges\n",
    "\n",
    "# create graph\n",
    "G = nx.Graph()\n",
    "\n",
    "# add nodes\n",
    "### define a list nodes....\n",
    "G.add_nodes_from(node_list)\n",
    "\n",
    "\n",
    "# add edges\n",
    "edge_list = []\n",
    "\n",
    "### define a list of edges. It should be a list of tuples. keep in mind that you should not have the same edge twice and that edge (a, b) is the same than (b, a)\n",
    "    \n",
    "G.add_edges_from(edge_list)\n",
    "    \n",
    "print(list(G.nodes))\n",
    "print(list(G.edges))"
   ]
  },
  {
   "cell_type": "code",
   "execution_count": null,
   "metadata": {},
   "outputs": [],
   "source": []
  },
  {
   "cell_type": "code",
   "execution_count": null,
   "metadata": {},
   "outputs": [],
   "source": []
  }
 ],
 "metadata": {
  "kernelspec": {
   "display_name": "Python 3",
   "language": "python",
   "name": "python3"
  },
  "language_info": {
   "codemirror_mode": {
    "name": "ipython",
    "version": 3
   },
   "file_extension": ".py",
   "mimetype": "text/x-python",
   "name": "python",
   "nbconvert_exporter": "python",
   "pygments_lexer": "ipython3",
   "version": "3.7.9"
  }
 },
 "nbformat": 4,
 "nbformat_minor": 4
}
